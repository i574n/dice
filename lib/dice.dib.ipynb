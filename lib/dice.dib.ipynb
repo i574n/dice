{
 "cells": [
  {
   "cell_type": "markdown",
   "metadata": {},
   "source": [
    "# dice (Dice)"
   ]
  },
  {
   "cell_type": "code",
   "execution_count": null,
   "metadata": {
    "dotnet_interactive": {
     "language": "spiral"
    },
    "polyglot_notebook": {
     "kernelName": "spiral"
    }
   },
   "outputs": [],
   "source": [
    "//// test\n",
    "\n",
    "open testing"
   ]
  },
  {
   "cell_type": "markdown",
   "metadata": {},
   "source": [
    "## sixth_power_sequence"
   ]
  },
  {
   "cell_type": "code",
   "execution_count": null,
   "metadata": {
    "dotnet_interactive": {
     "language": "spiral"
    },
    "polyglot_notebook": {
     "kernelName": "spiral"
    }
   },
   "outputs": [],
   "source": [
    "inl sixth_power_sequence () =\n",
    "    stream.iterate ((*) 6) 1"
   ]
  },
  {
   "cell_type": "code",
   "execution_count": null,
   "metadata": {
    "dotnet_interactive": {
     "language": "spiral"
    },
    "polyglot_notebook": {
     "kernelName": "spiral"
    }
   },
   "outputs": [
    {
     "name": "stdout",
     "output_type": "stream",
     "text": [
      "__assert_eq / actual: UH0_1\n",
      "  (1,\n",
      "   UH0_1\n",
      "     (6,\n",
      "      UH0_1\n",
      "        (36,\n",
      "         UH0_1\n",
      "           (216,\n",
      "            UH0_1 (1296, UH0_1 (7776, UH0_1 (46656, UH0_1 (279936, UH0_0)))))))) / expected: UH0_1\n",
      "  (1,\n",
      "   UH0_1\n",
      "     (6,\n",
      "      UH0_1\n",
      "        (36,\n",
      "         UH0_1\n",
      "           (216,\n",
      "            UH0_1 (1296, UH0_1 (7776, UH0_1 (46656, UH0_1 (279936, UH0_0))))))))\n"
     ]
    }
   ],
   "source": [
    "//// test\n",
    "\n",
    "sixth_power_sequence ()\n",
    "|> stream.take_while (fun _ i => i <= 7i32)\n",
    "|> stream.to_list\n",
    "|> _assert_eq [ 1i32; 6; 36; 216; 1296; 7776; 46656; 279936 ]"
   ]
  },
  {
   "cell_type": "markdown",
   "metadata": {},
   "source": [
    "## accumulate_dice_rolls"
   ]
  },
  {
   "cell_type": "code",
   "execution_count": null,
   "metadata": {
    "dotnet_interactive": {
     "language": "spiral"
    },
    "polyglot_notebook": {
     "kernelName": "spiral"
    }
   },
   "outputs": [],
   "source": [
    "inl accumulate_dice_rolls\n",
    "    (log : option (string -> ()))\n",
    "    (rolls : list u8)\n",
    "    (power : i8)\n",
    "    acc\n",
    "    =\n",
    "    inl rec body acc power rolls =\n",
    "        match rolls with\n",
    "        | _ when power < 0 =>\n",
    "            inl result = acc + 1\n",
    "            log |> optionm'.iter ((|>) $'$\"accumulate_dice_rolls / power: {!power} / acc: {!acc} / result: {!result}\"')\n",
    "            Some (result, rolls)\n",
    "        | [] => None\n",
    "        | roll :: rest when roll > 1 =>\n",
    "            inl coeff = sixth_power_sequence () |> stream.item power\n",
    "            inl value = conv (roll - 1) * coeff\n",
    "            log |> optionm'.iter ((|>) $'$\"accumulate_dice_rolls / power: {!power} / acc: {!acc} / roll: {!roll} / value: {!value}\"'\n",
    "            )\n",
    "            loop (acc + value) (power - 1) rest\n",
    "        | roll :: rest =>\n",
    "            log |> optionm'.iter ((|>) $'$\"accumulate_dice_rolls / power: {!power} / acc: {!acc} / roll: {!roll}\"')\n",
    "            loop acc (power - 1) rest\n",
    "    and inl loop acc power rolls =\n",
    "        if var_is rolls |> not\n",
    "        then body acc power rolls\n",
    "        else\n",
    "            inl acc = dyn acc\n",
    "            join body acc power rolls\n",
    "    loop acc power rolls"
   ]
  },
  {
   "cell_type": "code",
   "execution_count": null,
   "metadata": {
    "dotnet_interactive": {
     "language": "spiral"
    },
    "polyglot_notebook": {
     "kernelName": "spiral"
    }
   },
   "outputs": [
    {
     "name": "stdout",
     "output_type": "stream",
     "text": [
      "accumulate_dice_rolls / power: 0 / acc: 1000 / roll: 6 / value: 5\n",
      "accumulate_dice_rolls / power: -1 / acc: 1005 / result: 1006\n",
      "__assert_eq / actual: US0_0 (1006, UH0_1 (5uy, UH0_1 (4uy, UH0_1 (3uy, UH0_1 (2uy, UH0_0))))) / expected: US0_0 (1006, UH0_1 (5uy, UH0_1 (4uy, UH0_1 (3uy, UH0_1 (2uy, UH0_0)))))\n"
     ]
    }
   ],
   "source": [
    "//// test\n",
    "\n",
    "accumulate_dice_rolls (Some console.write_line) [ 6; 5; 4; 3; 2 ] 0 1000i32\n",
    "|> _assert_eq (Some (1006, [ 5; 4; 3; 2 ]))"
   ]
  },
  {
   "cell_type": "code",
   "execution_count": null,
   "metadata": {
    "dotnet_interactive": {
     "language": "spiral"
    },
    "polyglot_notebook": {
     "kernelName": "spiral"
    }
   },
   "outputs": [
    {
     "name": "stdout",
     "output_type": "stream",
     "text": [
      "accumulate_dice_rolls / power: 1 / acc: 1000 / roll: 6 / value: 30\n",
      "accumulate_dice_rolls / power: 0 / acc: 1030 / roll: 5 / value: 4\n",
      "accumulate_dice_rolls / power: -1 / acc: 1034 / result: 1035\n",
      "__assert_eq / actual: US0_0 (1035, UH0_1 (4uy, UH0_1 (3uy, UH0_1 (2uy, UH0_0)))) / expected: US0_0 (1035, UH0_1 (4uy, UH0_1 (3uy, UH0_1 (2uy, UH0_0))))\n"
     ]
    }
   ],
   "source": [
    "//// test\n",
    "\n",
    "accumulate_dice_rolls (Some console.write_line) [ 6; 5; 4; 3; 2 ] 1 1000i32\n",
    "|> _assert_eq (Some (1035, [ 4; 3; 2 ]))"
   ]
  },
  {
   "cell_type": "code",
   "execution_count": null,
   "metadata": {
    "dotnet_interactive": {
     "language": "spiral"
    },
    "polyglot_notebook": {
     "kernelName": "spiral"
    }
   },
   "outputs": [
    {
     "name": "stdout",
     "output_type": "stream",
     "text": [
      "accumulate_dice_rolls / power: 2 / acc: 1000 / roll: 6 / value: 180\n",
      "accumulate_dice_rolls / power: 1 / acc: 1180 / roll: 5 / value: 24\n",
      "accumulate_dice_rolls / power: 0 / acc: 1204 / roll: 4 / value: 3\n",
      "accumulate_dice_rolls / power: -1 / acc: 1207 / result: 1208\n",
      "__assert_eq / actual: US0_0 (1208, UH0_1 (3uy, UH0_1 (2uy, UH0_0))) / expected: US0_0 (1208, UH0_1 (3uy, UH0_1 (2uy, UH0_0)))\n"
     ]
    }
   ],
   "source": [
    "//// test\n",
    "\n",
    "accumulate_dice_rolls (Some console.write_line) [ 6; 5; 4; 3; 2 ] 2 1000i32\n",
    "|> _assert_eq (Some (1208, [ 3; 2 ]))"
   ]
  },
  {
   "cell_type": "markdown",
   "metadata": {},
   "source": [
    "## roll_within_bounds"
   ]
  },
  {
   "cell_type": "code",
   "execution_count": null,
   "metadata": {
    "dotnet_interactive": {
     "language": "spiral"
    },
    "polyglot_notebook": {
     "kernelName": "spiral"
    }
   },
   "outputs": [],
   "source": [
    "inl roll_within_bounds (log : option (string -> ())) max rolls =\n",
    "    inl power = listm.length rolls - 1\n",
    "    match accumulate_dice_rolls log rolls power 0 with\n",
    "    | Some (result, _) when result >= 1 && result <= max => Some result\n",
    "    | _ => None"
   ]
  },
  {
   "cell_type": "code",
   "execution_count": null,
   "metadata": {
    "dotnet_interactive": {
     "language": "spiral"
    },
    "polyglot_notebook": {
     "kernelName": "spiral"
    }
   },
   "outputs": [
    {
     "name": "stdout",
     "output_type": "stream",
     "text": [
      "accumulate_dice_rolls / power: 4 / acc: 0 / roll: 1\n",
      "accumulate_dice_rolls / power: 3 / acc: 0 / roll: 5 / value: 864\n",
      "accumulate_dice_rolls / power: 2 / acc: 864 / roll: 4 / value: 108\n",
      "accumulate_dice_rolls / power: 1 / acc: 972 / roll: 4 / value: 18\n",
      "accumulate_dice_rolls / power: 0 / acc: 990 / roll: 5 / value: 4\n",
      "accumulate_dice_rolls / power: -1 / acc: 994 / result: 995\n",
      "__assert_eq / actual: US0_0 995 / expected: US0_0 995\n"
     ]
    }
   ],
   "source": [
    "//// test\n",
    "\n",
    "roll_within_bounds (Some console.write_line) 2000i32 [ 1; 5; 4; 4; 5 ]\n",
    "|> _assert_eq (Some 995)"
   ]
  },
  {
   "cell_type": "code",
   "execution_count": null,
   "metadata": {
    "dotnet_interactive": {
     "language": "spiral"
    },
    "polyglot_notebook": {
     "kernelName": "spiral"
    }
   },
   "outputs": [
    {
     "name": "stdout",
     "output_type": "stream",
     "text": [
      "accumulate_dice_rolls / power: 4 / acc: 0 / roll: 2 / value: 1296\n",
      "accumulate_dice_rolls / power: 3 / acc: 1296 / roll: 2 / value: 216\n",
      "accumulate_dice_rolls / power: 2 / acc: 1512 / roll: 6 / value: 180\n",
      "accumulate_dice_rolls / power: 1 / acc: 1692 / roll: 4 / value: 18\n",
      "accumulate_dice_rolls / power: 0 / acc: 1710 / roll: 5 / value: 4\n",
      "accumulate_dice_rolls / power: -1 / acc: 1714 / result: 1715\n",
      "__assert_eq / actual: US0_0 1715 / expected: US0_0 1715\n"
     ]
    }
   ],
   "source": [
    "//// test\n",
    "\n",
    "roll_within_bounds (Some console.write_line) 2000i32 [ 2; 2; 6; 4; 5 ]\n",
    "|> _assert_eq (Some 1715)"
   ]
  },
  {
   "cell_type": "code",
   "execution_count": null,
   "metadata": {
    "dotnet_interactive": {
     "language": "spiral"
    },
    "polyglot_notebook": {
     "kernelName": "spiral"
    }
   },
   "outputs": [
    {
     "name": "stdout",
     "output_type": "stream",
     "text": [
      "accumulate_dice_rolls / power: 4 / acc: 0 / roll: 4 / value: 3888\n",
      "accumulate_dice_rolls / power: 3 / acc: 3888 / roll: 1\n",
      "accumulate_dice_rolls / power: 2 / acc: 3888 / roll: 1\n",
      "accumulate_dice_rolls / power: 1 / acc: 3888 / roll: 2 / value: 6\n",
      "accumulate_dice_rolls / power: 0 / acc: 3894 / roll: 3 / value: 2\n",
      "accumulate_dice_rolls / power: -1 / acc: 3896 / result: 3897\n",
      "__assert_eq / actual: US0_1 / expected: US0_1\n"
     ]
    }
   ],
   "source": [
    "//// test\n",
    "\n",
    "roll_within_bounds (Some console.write_line) 2000i32 [ 4; 1; 1; 2; 3 ]\n",
    "|> _assert_eq None"
   ]
  },
  {
   "cell_type": "markdown",
   "metadata": {},
   "source": [
    "## calculate_dice_count"
   ]
  },
  {
   "cell_type": "code",
   "execution_count": null,
   "metadata": {
    "dotnet_interactive": {
     "language": "spiral"
    },
    "polyglot_notebook": {
     "kernelName": "spiral"
    }
   },
   "outputs": [],
   "source": [
    "inl calculate_dice_count (log : option (string -> ())) max =\n",
    "    inl rec body n p =\n",
    "        inl return () =\n",
    "            log |> optionm'.iter ((|>) $'$\"calculate_dice_count / max: {!max} / n: {!n} / p: {!p}\"')\n",
    "            n\n",
    "\n",
    "        if p < max then\n",
    "            inl p' = p * 6\n",
    "            if p' > p\n",
    "            then loop (n + 1) p'\n",
    "            else return ()\n",
    "        else return ()\n",
    "\n",
    "    and inl loop n p =\n",
    "        if var_is max |> not\n",
    "        then body n p\n",
    "        else\n",
    "            inl n = dyn n\n",
    "            inl p = dyn p\n",
    "            join body n p\n",
    "    if max = 1\n",
    "    then 1\n",
    "    else loop 0 1"
   ]
  },
  {
   "cell_type": "code",
   "execution_count": null,
   "metadata": {
    "dotnet_interactive": {
     "language": "spiral"
    },
    "polyglot_notebook": {
     "kernelName": "spiral"
    }
   },
   "outputs": [
    {
     "name": "stdout",
     "output_type": "stream",
     "text": [
      "calculate_dice_count / max: 36 / n: 2 / p: 36\n",
      "__assert_eq / actual: 2 / expected: 2\n"
     ]
    }
   ],
   "source": [
    "//// test\n",
    "\n",
    "calculate_dice_count (Some console.write_line) 36i32\n",
    "|> _assert_eq 2i32"
   ]
  },
  {
   "cell_type": "code",
   "execution_count": null,
   "metadata": {
    "dotnet_interactive": {
     "language": "spiral"
    },
    "polyglot_notebook": {
     "kernelName": "spiral"
    }
   },
   "outputs": [
    {
     "name": "stdout",
     "output_type": "stream",
     "text": [
      "calculate_dice_count / max: 7777 / n: 6 / p: 46656\n",
      "__assert_eq / actual: 6 / expected: 6\n"
     ]
    }
   ],
   "source": [
    "//// test\n",
    "\n",
    "calculate_dice_count (Some console.write_line) 7777i32\n",
    "|> _assert_eq 6i32"
   ]
  },
  {
   "cell_type": "markdown",
   "metadata": {},
   "source": [
    "## roll_dice"
   ]
  },
  {
   "cell_type": "code",
   "execution_count": null,
   "metadata": {
    "dotnet_interactive": {
     "language": "spiral"
    },
    "polyglot_notebook": {
     "kernelName": "spiral"
    }
   },
   "outputs": [],
   "source": [
    "let roll_dice () : u8 =\n",
    "    random' 1 7"
   ]
  },
  {
   "cell_type": "markdown",
   "metadata": {},
   "source": [
    "## rotate_number"
   ]
  },
  {
   "cell_type": "code",
   "execution_count": null,
   "metadata": {
    "dotnet_interactive": {
     "language": "spiral"
    },
    "polyglot_notebook": {
     "kernelName": "spiral"
    }
   },
   "outputs": [],
   "source": [
    "inl rotate_number forall t {number}. (max : i64) (n : t) : t =\n",
    "    (conv n - 1 + max) % max + 1 |> conv"
   ]
  },
  {
   "cell_type": "markdown",
   "metadata": {},
   "source": [
    "## rotate_numbers"
   ]
  },
  {
   "cell_type": "code",
   "execution_count": null,
   "metadata": {
    "dotnet_interactive": {
     "language": "spiral"
    },
    "polyglot_notebook": {
     "kernelName": "spiral"
    }
   },
   "outputs": [],
   "source": [
    "inl rotate_numbers max items =\n",
    "    items |> stream.map (rotate_number max)"
   ]
  },
  {
   "cell_type": "code",
   "execution_count": null,
   "metadata": {
    "dotnet_interactive": {
     "language": "spiral"
    },
    "polyglot_notebook": {
     "kernelName": "spiral"
    }
   },
   "outputs": [
    {
     "name": "stdout",
     "output_type": "stream",
     "text": [
      "__assert_eq / actual: UH0_1\n",
      "  (5,\n",
      "   UH0_1\n",
      "     (6,\n",
      "      UH0_1\n",
      "        (1,\n",
      "         UH0_1\n",
      "           (2,\n",
      "            UH0_1\n",
      "              (3,\n",
      "               UH0_1\n",
      "                 (4,\n",
      "                  UH0_1\n",
      "                    (5,\n",
      "                     UH0_1\n",
      "                       (6,\n",
      "                        UH0_1\n",
      "                          (1,\n",
      "                           UH0_1\n",
      "                             (2,\n",
      "                              UH0_1\n",
      "                                (3,\n",
      "                                 UH0_1\n",
      "                                   (4,\n",
      "                                    UH0_1\n",
      "                                      (5, UH0_1 (6, UH0_1 (1, UH0_1 (2, UH0_0)))))))))))))))) / expected: UH0_1\n",
      "  (5,\n",
      "   UH0_1\n",
      "     (6,\n",
      "      UH0_1\n",
      "        (1,\n",
      "         UH0_1\n",
      "           (2,\n",
      "            UH0_1\n",
      "              (3,\n",
      "               UH0_1\n",
      "                 (4,\n",
      "                  UH0_1\n",
      "                    (5,\n",
      "                     UH0_1\n",
      "                       (6,\n",
      "                        UH0_1\n",
      "                          (1,\n",
      "                           UH0_1\n",
      "                             (2,\n",
      "                              UH0_1\n",
      "                                (3,\n",
      "                                 UH0_1\n",
      "                                   (4,\n",
      "                                    UH0_1\n",
      "                                      (5, UH0_1 (6, UH0_1 (1, UH0_1 (2, UH0_0))))))))))))))))\n"
     ]
    }
   ],
   "source": [
    "//// test\n",
    "\n",
    "listm'.init_series -1 14 1i32\n",
    "|> stream.from_list\n",
    "|> rotate_numbers 6\n",
    "|> stream.to_list\n",
    "|> _assert_eq [ 5; 6; 1; 2; 3; 4; 5; 6; 1; 2; 3; 4; 5; 6; 1; 2 ]"
   ]
  },
  {
   "cell_type": "markdown",
   "metadata": {},
   "source": [
    "## create_sequential_roller"
   ]
  },
  {
   "cell_type": "code",
   "execution_count": null,
   "metadata": {
    "dotnet_interactive": {
     "language": "spiral"
    },
    "polyglot_notebook": {
     "kernelName": "spiral"
    }
   },
   "outputs": [],
   "source": [
    "inl create_sequential_roller (log : option (string -> ())) list =\n",
    "    log |> optionm'.iter ((|>) $'$\"create_sequential_roller ()\"')\n",
    "    inl s = list |> listm.rev |> listm.append list |> stream.from_list |> stream.memoize\n",
    "    inl current_index = mut 0i64\n",
    "    inl acc = mut 1\n",
    "    inl len = mut -1\n",
    "    inl last_item = mut None\n",
    "    let rec loop () =\n",
    "        fun () =>\n",
    "            inl current_index = *current_index\n",
    "            inl acc = *acc\n",
    "            inl len = *len\n",
    "            inl last_item = *last_item\n",
    "            log |> optionm'.iter ((|>) $'$\"create_sequential_roller / roll / current_index: {!current_index} / acc: {!acc} / len: {!len} / last_item: %A{!last_item}\"')\n",
    "        |> fun x => x ()\n",
    "        match s () |> stream.try_item *current_index with\n",
    "        | Some item =>\n",
    "            current_index <- *current_index + 1\n",
    "            last_item <- Some item\n",
    "            item\n",
    "        | None =>\n",
    "            log |> optionm'.iter ((|>) $'$\"create_sequential_roller / roll / None\"')\n",
    "            if *len = -1\n",
    "            then len <- *current_index\n",
    "            acc <-\n",
    "                if *acc >= *len\n",
    "                then 1\n",
    "                else *acc + 1\n",
    "            current_index <- *acc - 1\n",
    "            last_item <- None\n",
    "            loop ()\n",
    "    loop"
   ]
  },
  {
   "cell_type": "code",
   "execution_count": null,
   "metadata": {
    "dotnet_interactive": {
     "language": "spiral"
    },
    "polyglot_notebook": {
     "kernelName": "spiral"
    }
   },
   "outputs": [
    {
     "name": "stdout",
     "output_type": "stream",
     "text": [
      "create_sequential_roller ()\n",
      "create_sequential_roller / roll / current_index: 0 / acc: 1 / len: -1 / last_item: US1_1\n",
      "create_sequential_roller / roll / current_index: 1 / acc: 1 / len: -1 / last_item: US1_0 1\n",
      "create_sequential_roller / roll / current_index: 2 / acc: 1 / len: -1 / last_item: US1_0 2\n",
      "create_sequential_roller / roll / current_index: 3 / acc: 1 / len: -1 / last_item: US1_0 3\n",
      "create_sequential_roller / roll / current_index: 4 / acc: 1 / len: -1 / last_item: US1_0 4\n",
      "create_sequential_roller / roll / current_index: 5 / acc: 1 / len: -1 / last_item: US1_0 4\n",
      "create_sequential_roller / roll / current_index: 6 / acc: 1 / len: -1 / last_item: US1_0 3\n",
      "create_sequential_roller / roll / current_index: 7 / acc: 1 / len: -1 / last_item: US1_0 2\n",
      "create_sequential_roller / roll / current_index: 8 / acc: 1 / len: -1 / last_item: US1_0 1\n",
      "create_sequential_roller / roll / None\n",
      "create_sequential_roller / roll / current_index: 1 / acc: 2 / len: 8 / last_item: US1_1\n",
      "create_sequential_roller / roll / current_index: 2 / acc: 2 / len: 8 / last_item: US1_0 2\n",
      "create_sequential_roller / roll / current_index: 3 / acc: 2 / len: 8 / last_item: US1_0 3\n",
      "create_sequential_roller / roll / current_index: 4 / acc: 2 / len: 8 / last_item: US1_0 4\n",
      "create_sequential_roller / roll / current_index: 5 / acc: 2 / len: 8 / last_item: US1_0 4\n",
      "create_sequential_roller / roll / current_index: 6 / acc: 2 / len: 8 / last_item: US1_0 3\n",
      "create_sequential_roller / roll / current_index: 7 / acc: 2 / len: 8 / last_item: US1_0 2\n",
      "create_sequential_roller / roll / current_index: 8 / acc: 2 / len: 8 / last_item: US1_0 1\n",
      "create_sequential_roller / roll / None\n",
      "create_sequential_roller / roll / current_index: 2 / acc: 3 / len: 8 / last_item: US1_1\n",
      "create_sequential_roller / roll / current_index: 3 / acc: 3 / len: 8 / last_item: US1_0 3\n",
      "create_sequential_roller / roll / current_index: 4 / acc: 3 / len: 8 / last_item: US1_0 4\n",
      "create_sequential_roller / roll / current_index: 5 / acc: 3 / len: 8 / last_item: US1_0 4\n",
      "create_sequential_roller / roll / current_index: 6 / acc: 3 / len: 8 / last_item: US1_0 3\n",
      "create_sequential_roller / roll / current_index: 7 / acc: 3 / len: 8 / last_item: US1_0 2\n",
      "create_sequential_roller / roll / current_index: 8 / acc: 3 / len: 8 / last_item: US1_0 1\n",
      "create_sequential_roller / roll / None\n",
      "create_sequential_roller / roll / current_index: 3 / acc: 4 / len: 8 / last_item: US1_1\n",
      "create_sequential_roller / roll / current_index: 4 / acc: 4 / len: 8 / last_item: US1_0 4\n",
      "create_sequential_roller / roll / current_index: 5 / acc: 4 / len: 8 / last_item: US1_0 4\n",
      "create_sequential_roller / roll / current_index: 6 / acc: 4 / len: 8 / last_item: US1_0 3\n",
      "create_sequential_roller / roll / current_index: 7 / acc: 4 / len: 8 / last_item: US1_0 2\n",
      "create_sequential_roller / roll / current_index: 8 / acc: 4 / len: 8 / last_item: US1_0 1\n",
      "create_sequential_roller / roll / None\n",
      "create_sequential_roller / roll / current_index: 4 / acc: 5 / len: 8 / last_item: US1_1\n",
      "create_sequential_roller / roll / current_index: 5 / acc: 5 / len: 8 / last_item: US1_0 4\n",
      "create_sequential_roller / roll / current_index: 6 / acc: 5 / len: 8 / last_item: US1_0 3\n",
      "create_sequential_roller / roll / current_index: 7 / acc: 5 / len: 8 / last_item: US1_0 2\n",
      "create_sequential_roller / roll / current_index: 8 / acc: 5 / len: 8 / last_item: US1_0 1\n",
      "create_sequential_roller / roll / None\n",
      "create_sequential_roller / roll / current_index: 5 / acc: 6 / len: 8 / last_item: US1_1\n",
      "create_sequential_roller / roll / current_index: 6 / acc: 6 / len: 8 / last_item: US1_0 3\n",
      "create_sequential_roller / roll / current_index: 7 / acc: 6 / len: 8 / last_item: US1_0 2\n",
      "create_sequential_roller / roll / current_index: 8 / acc: 6 / len: 8 / last_item: US1_0 1\n",
      "create_sequential_roller / roll / None\n",
      "create_sequential_roller / roll / current_index: 6 / acc: 7 / len: 8 / last_item: US1_1\n",
      "create_sequential_roller / roll / current_index: 7 / acc: 7 / len: 8 / last_item: US1_0 2\n",
      "create_sequential_roller / roll / current_index: 8 / acc: 7 / len: 8 / last_item: US1_0 1\n",
      "create_sequential_roller / roll / None\n",
      "create_sequential_roller / roll / current_index: 7 / acc: 8 / len: 8 / last_item: US1_1\n",
      "create_sequential_roller / roll / current_index: 8 / acc: 8 / len: 8 / last_item: US1_0 1\n",
      "create_sequential_roller / roll / None\n",
      "create_sequential_roller / roll / current_index: 0 / acc: 1 / len: 8 / last_item: US1_1\n",
      "create_sequential_roller / roll / current_index: 1 / acc: 1 / len: 8 / last_item: US1_0 1\n",
      "create_sequential_roller / roll / current_index: 2 / acc: 1 / len: 8 / last_item: US1_0 2\n",
      "create_sequential_roller / roll / current_index: 3 / acc: 1 / len: 8 / last_item: US1_0 3\n",
      "create_sequential_roller / roll / current_index: 4 / acc: 1 / len: 8 / last_item: US1_0 4\n",
      "create_sequential_roller / roll / current_index: 5 / acc: 1 / len: 8 / last_item: US1_0 4\n",
      "create_sequential_roller / roll / current_index: 6 / acc: 1 / len: 8 / last_item: US1_0 3\n",
      "create_sequential_roller / roll / current_index: 7 / acc: 1 / len: 8 / last_item: US1_0 2\n",
      "create_sequential_roller / roll / current_index: 8 / acc: 1 / len: 8 / last_item: US1_0 1\n",
      "create_sequential_roller / roll / None\n",
      "create_sequential_roller / roll / current_index: 1 / acc: 2 / len: 8 / last_item: US1_1\n",
      "create_sequential_roller / roll / current_index: 2 / acc: 2 / len: 8 / last_item: US1_0 2\n",
      "create_sequential_roller / roll / current_index: 3 / acc: 2 / len: 8 / last_item: US1_0 3\n",
      "create_sequential_roller / roll / current_index: 4 / acc: 2 / len: 8 / last_item: US1_0 4\n",
      "create_sequential_roller / roll / current_index: 5 / acc: 2 / len: 8 / last_item: US1_0 4\n",
      "create_sequential_roller / roll / current_index: 6 / acc: 2 / len: 8 / last_item: US1_0 3\n",
      "__assert_eq / actual: [|1; 2; 3; 4; 4; 3; 2; 1; 2; 3; 4; 4; 3; 2; 1; 3; 4; 4; 3; 2; 1; 4; 4; 3; 2; 1;\n",
      "  4; 3; 2; 1; 3; 2; 1; 2; 1; 1; 1; 2; 3; 4; 4; 3; 2; 1; 2; 3; 4; 4; 3; 2|] / expected: [|1; 2; 3; 4; 4; 3; 2; 1; 2; 3; 4; 4; 3; 2; 1; 3; 4; 4; 3; 2; 1; 4; 4; 3; 2; 1;\n",
      "  4; 3; 2; 1; 3; 2; 1; 2; 1; 1; 1; 2; 3; 4; 4; 3; 2; 1; 2; 3; 4; 4; 3; 2|]\n"
     ]
    }
   ],
   "source": [
    "//// test\n",
    "\n",
    "inl sequential_roll = create_sequential_roller (Some console.write_line) [ 1i32; 2; 3; 4 ]\n",
    "\n",
    "am.init 50i32 (ignore >> sequential_roll)\n",
    "|> _assert_eq (a ;[ 1; 2; 3; 4; 4; 3; 2; 1; 2; 3; 4; 4; 3; 2; 1; 3; 4; 4; 3; 2; 1; 4; 4; 3; 2; 1;\n",
    "4; 3; 2; 1; 3; 2; 1; 2; 1; 1; 1; 2; 3; 4; 4; 3; 2; 1; 2; 3; 4; 4; 3; 2 ] : a i32 i32)"
   ]
  },
  {
   "cell_type": "markdown",
   "metadata": {},
   "source": [
    "## roll_progressively"
   ]
  },
  {
   "cell_type": "code",
   "execution_count": null,
   "metadata": {
    "dotnet_interactive": {
     "language": "spiral"
    },
    "polyglot_notebook": {
     "kernelName": "spiral"
    }
   },
   "outputs": [],
   "source": [
    "inl roll_progressively (log : option (string -> ())) roll reroll max =\n",
    "    inl power = (calculate_dice_count log max) - 1\n",
    "    let rec loop rolls size =\n",
    "        if size < power + 1\n",
    "        then loop (roll () :: rolls) (size + 1)\n",
    "        else accumulate_dice_rolls log rolls power 0 |> function\n",
    "            | Some (result, _) when result <= max => result\n",
    "            | _ when reroll => loop (listm.init power (fun _ => roll ())) power\n",
    "            | _ => loop (roll () :: rolls) (size + 1)\n",
    "    loop [] 0"
   ]
  },
  {
   "cell_type": "code",
   "execution_count": null,
   "metadata": {
    "dotnet_interactive": {
     "language": "spiral"
    },
    "polyglot_notebook": {
     "kernelName": "spiral"
    }
   },
   "outputs": [
    {
     "name": "stdout",
     "output_type": "stream",
     "text": [
      "__assert_eq / actual: 1 / expected: 1\n"
     ]
    }
   ],
   "source": [
    "//// test\n",
    "\n",
    "roll_progressively None roll_dice false 1\n",
    "|> _assert_eq 1i32"
   ]
  },
  {
   "cell_type": "code",
   "execution_count": null,
   "metadata": {
    "dotnet_interactive": {
     "language": "spiral"
    },
    "polyglot_notebook": {
     "kernelName": "spiral"
    }
   },
   "outputs": [
    {
     "name": "stdout",
     "output_type": "stream",
     "text": [
      "create_sequential_roller ()\n",
      "calculate_dice_count / max: 2000 / n: 5 / p: 7776\n",
      "create_sequential_roller / roll / current_index: 0 / acc: 1 / len: -1 / last_item: US1_1\n",
      "create_sequential_roller / roll / current_index: 1 / acc: 1 / len: -1 / last_item: US1_0 5uy\n",
      "create_sequential_roller / roll / current_index: 2 / acc: 1 / len: -1 / last_item: US1_0 4uy\n",
      "create_sequential_roller / roll / current_index: 3 / acc: 1 / len: -1 / last_item: US1_0 4uy\n",
      "create_sequential_roller / roll / current_index: 4 / acc: 1 / len: -1 / last_item: US1_0 5uy\n",
      "accumulate_dice_rolls / power: 4 / acc: 0 / roll: 1\n",
      "accumulate_dice_rolls / power: 3 / acc: 0 / roll: 5 / value: 864\n",
      "accumulate_dice_rolls / power: 2 / acc: 864 / roll: 4 / value: 108\n",
      "accumulate_dice_rolls / power: 1 / acc: 972 / roll: 4 / value: 18\n",
      "accumulate_dice_rolls / power: 0 / acc: 990 / roll: 5 / value: 4\n",
      "accumulate_dice_rolls / power: -1 / acc: 994 / result: 995\n",
      "__assert_eq / actual: 995 / expected: 995\n"
     ]
    }
   ],
   "source": [
    "//// test\n",
    "\n",
    "inl sequential_roll = create_sequential_roller (Some console.write_line) [ 5; 4; 4; 5; 1 ]\n",
    "\n",
    "roll_progressively (Some console.write_line) sequential_roll false 2000i32\n",
    "|> _assert_eq 995"
   ]
  },
  {
   "cell_type": "code",
   "execution_count": null,
   "metadata": {
    "dotnet_interactive": {
     "language": "spiral"
    },
    "polyglot_notebook": {
     "kernelName": "spiral"
    }
   },
   "outputs": [
    {
     "name": "stdout",
     "output_type": "stream",
     "text": [
      "create_sequential_roller ()\n",
      "calculate_dice_count / max: 2000 / n: 5 / p: 7776\n",
      "create_sequential_roller / roll / current_index: 0 / acc: 1 / len: -1 / last_item: US1_1\n",
      "create_sequential_roller / roll / current_index: 1 / acc: 1 / len: -1 / last_item: US1_0 5uy\n",
      "create_sequential_roller / roll / current_index: 2 / acc: 1 / len: -1 / last_item: US1_0 4uy\n",
      "create_sequential_roller / roll / current_index: 3 / acc: 1 / len: -1 / last_item: US1_0 4uy\n",
      "create_sequential_roller / roll / current_index: 4 / acc: 1 / len: -1 / last_item: US1_0 5uy\n",
      "accumulate_dice_rolls / power: 4 / acc: 0 / roll: 2 / value: 1296\n",
      "accumulate_dice_rolls / power: 3 / acc: 1296 / roll: 5 / value: 864\n",
      "accumulate_dice_rolls / power: 2 / acc: 2160 / roll: 4 / value: 108\n",
      "accumulate_dice_rolls / power: 1 / acc: 2268 / roll: 4 / value: 18\n",
      "accumulate_dice_rolls / power: 0 / acc: 2286 / roll: 5 / value: 4\n",
      "accumulate_dice_rolls / power: -1 / acc: 2290 / result: 2291\n",
      "create_sequential_roller / roll / current_index: 5 / acc: 1 / len: -1 / last_item: US1_0 2uy\n",
      "accumulate_dice_rolls / power: 4 / acc: 0 / roll: 2 / value: 1296\n",
      "accumulate_dice_rolls / power: 3 / acc: 1296 / roll: 2 / value: 216\n",
      "accumulate_dice_rolls / power: 2 / acc: 1512 / roll: 5 / value: 144\n",
      "accumulate_dice_rolls / power: 1 / acc: 1656 / roll: 4 / value: 18\n",
      "accumulate_dice_rolls / power: 0 / acc: 1674 / roll: 4 / value: 3\n",
      "accumulate_dice_rolls / power: -1 / acc: 1677 / result: 1678\n",
      "__assert_eq / actual: 1678 / expected: 1678\n"
     ]
    }
   ],
   "source": [
    "//// test\n",
    "\n",
    "inl sequential_roll = create_sequential_roller (Some console.write_line) [ 5; 4; 4; 5; 2 ]\n",
    "\n",
    "roll_progressively (Some console.write_line) sequential_roll false 2000i32\n",
    "|> _assert_eq 1678"
   ]
  },
  {
   "cell_type": "code",
   "execution_count": null,
   "metadata": {
    "dotnet_interactive": {
     "language": "spiral"
    },
    "polyglot_notebook": {
     "kernelName": "spiral"
    }
   },
   "outputs": [
    {
     "data": {
      "text/html": [
       "<table><thead><tr><th><i>index</i></th><th>value</th></tr></thead><tbody><tr><td>0</td><td><details class=\"dni-treeview\"><summary><span class=\"dni-code-hint\"><code>(1, 289)</code></span></summary><div><table><thead><tr></tr></thead><tbody><tr><td>Item1</td><td><div class=\"dni-plaintext\"><pre>1</pre></div></td></tr><tr><td>Item2</td><td><div class=\"dni-plaintext\"><pre>289</pre></div></td></tr></tbody></table></div></details></td></tr><tr><td>1</td><td><details class=\"dni-treeview\"><summary><span class=\"dni-code-hint\"><code>(2, 728)</code></span></summary><div><table><thead><tr></tr></thead><tbody><tr><td>Item1</td><td><div class=\"dni-plaintext\"><pre>2</pre></div></td></tr><tr><td>Item2</td><td><div class=\"dni-plaintext\"><pre>728</pre></div></td></tr></tbody></table></div></details></td></tr><tr><td>2</td><td><details class=\"dni-treeview\"><summary><span class=\"dni-code-hint\"><code>(3, 1385)</code></span></summary><div><table><thead><tr></tr></thead><tbody><tr><td>Item1</td><td><div class=\"dni-plaintext\"><pre>3</pre></div></td></tr><tr><td>Item2</td><td><div class=\"dni-plaintext\"><pre>1385</pre></div></td></tr></tbody></table></div></details></td></tr><tr><td>3</td><td><details class=\"dni-treeview\"><summary><span class=\"dni-code-hint\"><code>(4, 1283)</code></span></summary><div><table><thead><tr></tr></thead><tbody><tr><td>Item1</td><td><div class=\"dni-plaintext\"><pre>4</pre></div></td></tr><tr><td>Item2</td><td><div class=\"dni-plaintext\"><pre>1283</pre></div></td></tr></tbody></table></div></details></td></tr><tr><td>4</td><td><details class=\"dni-treeview\"><summary><span class=\"dni-code-hint\"><code>(5, 1365)</code></span></summary><div><table><thead><tr></tr></thead><tbody><tr><td>Item1</td><td><div class=\"dni-plaintext\"><pre>5</pre></div></td></tr><tr><td>Item2</td><td><div class=\"dni-plaintext\"><pre>1365</pre></div></td></tr></tbody></table></div></details></td></tr><tr><td>5</td><td><details class=\"dni-treeview\"><summary><span class=\"dni-code-hint\"><code>(6, 1316)</code></span></summary><div><table><thead><tr></tr></thead><tbody><tr><td>Item1</td><td><div class=\"dni-plaintext\"><pre>6</pre></div></td></tr><tr><td>Item2</td><td><div class=\"dni-plaintext\"><pre>1316</pre></div></td></tr></tbody></table></div></details></td></tr><tr><td>6</td><td><details class=\"dni-treeview\"><summary><span class=\"dni-code-hint\"><code>(7, 285)</code></span></summary><div><table><thead><tr></tr></thead><tbody><tr><td>Item1</td><td><div class=\"dni-plaintext\"><pre>7</pre></div></td></tr><tr><td>Item2</td><td><div class=\"dni-plaintext\"><pre>285</pre></div></td></tr></tbody></table></div></details></td></tr><tr><td>7</td><td><details class=\"dni-treeview\"><summary><span class=\"dni-code-hint\"><code>(8, 716)</code></span></summary><div><table><thead><tr></tr></thead><tbody><tr><td>Item1</td><td><div class=\"dni-plaintext\"><pre>8</pre></div></td></tr><tr><td>Item2</td><td><div class=\"dni-plaintext\"><pre>716</pre></div></td></tr></tbody></table></div></details></td></tr><tr><td>8</td><td><details class=\"dni-treeview\"><summary><span class=\"dni-code-hint\"><code>(9, 1332)</code></span></summary><div><table><thead><tr></tr></thead><tbody><tr><td>Item1</td><td><div class=\"dni-plaintext\"><pre>9</pre></div></td></tr><tr><td>Item2</td><td><div class=\"dni-plaintext\"><pre>1332</pre></div></td></tr></tbody></table></div></details></td></tr><tr><td>9</td><td><details class=\"dni-treeview\"><summary><span class=\"dni-code-hint\"><code>(10, 1301)</code></span></summary><div><table><thead><tr></tr></thead><tbody><tr><td>Item1</td><td><div class=\"dni-plaintext\"><pre>10</pre></div></td></tr><tr><td>Item2</td><td><div class=\"dni-plaintext\"><pre>1301</pre></div></td></tr></tbody></table></div></details></td></tr></tbody></table><style>\n",
       ".dni-code-hint {\n",
       "    font-style: italic;\n",
       "    overflow: hidden;\n",
       "    white-space: nowrap;\n",
       "}\n",
       ".dni-treeview {\n",
       "    white-space: nowrap;\n",
       "}\n",
       ".dni-treeview td {\n",
       "    vertical-align: top;\n",
       "    text-align: start;\n",
       "}\n",
       "details.dni-treeview {\n",
       "    padding-left: 1em;\n",
       "}\n",
       "table td {\n",
       "    text-align: start;\n",
       "}\n",
       "table tr { \n",
       "    vertical-align: top; \n",
       "    margin: 0em 0px;\n",
       "}\n",
       "table tr td pre \n",
       "{ \n",
       "    vertical-align: top !important; \n",
       "    margin: 0em 0px !important;\n",
       "} \n",
       "table th {\n",
       "    text-align: start;\n",
       "}\n",
       "</style>"
      ]
     },
     "metadata": {},
     "output_type": "display_data"
    }
   ],
   "source": [
    "//// test\n",
    "\n",
    "join dyn listm'.init_series 1i32 10000 1\n",
    "|> listm.map (fun _ => roll_progressively None roll_dice false 10i32)\n",
    "|> listm'.group_by id\n",
    "|> listm.map (fun (k, v) => k, (listm.length v : i32))\n",
    "|> listm'.box\n",
    "|> listm'.to_array'\n",
    "|> fun ar =>\n",
    "    $'!ar |> Array.sortBy (fun (struct (a, b)) -> a)' : a i32 $'struct (int32 * int32)'"
   ]
  },
  {
   "cell_type": "code",
   "execution_count": null,
   "metadata": {
    "dotnet_interactive": {
     "language": "spiral"
    },
    "polyglot_notebook": {
     "kernelName": "spiral"
    }
   },
   "outputs": [
    {
     "data": {
      "text/html": [
       "<table><thead><tr><th><i>index</i></th><th>value</th></tr></thead><tbody><tr><td>0</td><td><details class=\"dni-treeview\"><summary><span class=\"dni-code-hint\"><code>(1, 1000)</code></span></summary><div><table><thead><tr></tr></thead><tbody><tr><td>Item1</td><td><div class=\"dni-plaintext\"><pre>1</pre></div></td></tr><tr><td>Item2</td><td><div class=\"dni-plaintext\"><pre>1000</pre></div></td></tr></tbody></table></div></details></td></tr><tr><td>1</td><td><details class=\"dni-treeview\"><summary><span class=\"dni-code-hint\"><code>(2, 1004)</code></span></summary><div><table><thead><tr></tr></thead><tbody><tr><td>Item1</td><td><div class=\"dni-plaintext\"><pre>2</pre></div></td></tr><tr><td>Item2</td><td><div class=\"dni-plaintext\"><pre>1004</pre></div></td></tr></tbody></table></div></details></td></tr><tr><td>2</td><td><details class=\"dni-treeview\"><summary><span class=\"dni-code-hint\"><code>(3, 1013)</code></span></summary><div><table><thead><tr></tr></thead><tbody><tr><td>Item1</td><td><div class=\"dni-plaintext\"><pre>3</pre></div></td></tr><tr><td>Item2</td><td><div class=\"dni-plaintext\"><pre>1013</pre></div></td></tr></tbody></table></div></details></td></tr><tr><td>3</td><td><details class=\"dni-treeview\"><summary><span class=\"dni-code-hint\"><code>(4, 1026)</code></span></summary><div><table><thead><tr></tr></thead><tbody><tr><td>Item1</td><td><div class=\"dni-plaintext\"><pre>4</pre></div></td></tr><tr><td>Item2</td><td><div class=\"dni-plaintext\"><pre>1026</pre></div></td></tr></tbody></table></div></details></td></tr><tr><td>4</td><td><details class=\"dni-treeview\"><summary><span class=\"dni-code-hint\"><code>(5, 973)</code></span></summary><div><table><thead><tr></tr></thead><tbody><tr><td>Item1</td><td><div class=\"dni-plaintext\"><pre>5</pre></div></td></tr><tr><td>Item2</td><td><div class=\"dni-plaintext\"><pre>973</pre></div></td></tr></tbody></table></div></details></td></tr><tr><td>5</td><td><details class=\"dni-treeview\"><summary><span class=\"dni-code-hint\"><code>(6, 1021)</code></span></summary><div><table><thead><tr></tr></thead><tbody><tr><td>Item1</td><td><div class=\"dni-plaintext\"><pre>6</pre></div></td></tr><tr><td>Item2</td><td><div class=\"dni-plaintext\"><pre>1021</pre></div></td></tr></tbody></table></div></details></td></tr><tr><td>6</td><td><details class=\"dni-treeview\"><summary><span class=\"dni-code-hint\"><code>(7, 1009)</code></span></summary><div><table><thead><tr></tr></thead><tbody><tr><td>Item1</td><td><div class=\"dni-plaintext\"><pre>7</pre></div></td></tr><tr><td>Item2</td><td><div class=\"dni-plaintext\"><pre>1009</pre></div></td></tr></tbody></table></div></details></td></tr><tr><td>7</td><td><details class=\"dni-treeview\"><summary><span class=\"dni-code-hint\"><code>(8, 996)</code></span></summary><div><table><thead><tr></tr></thead><tbody><tr><td>Item1</td><td><div class=\"dni-plaintext\"><pre>8</pre></div></td></tr><tr><td>Item2</td><td><div class=\"dni-plaintext\"><pre>996</pre></div></td></tr></tbody></table></div></details></td></tr><tr><td>8</td><td><details class=\"dni-treeview\"><summary><span class=\"dni-code-hint\"><code>(9, 959)</code></span></summary><div><table><thead><tr></tr></thead><tbody><tr><td>Item1</td><td><div class=\"dni-plaintext\"><pre>9</pre></div></td></tr><tr><td>Item2</td><td><div class=\"dni-plaintext\"><pre>959</pre></div></td></tr></tbody></table></div></details></td></tr><tr><td>9</td><td><details class=\"dni-treeview\"><summary><span class=\"dni-code-hint\"><code>(10, 999)</code></span></summary><div><table><thead><tr></tr></thead><tbody><tr><td>Item1</td><td><div class=\"dni-plaintext\"><pre>10</pre></div></td></tr><tr><td>Item2</td><td><div class=\"dni-plaintext\"><pre>999</pre></div></td></tr></tbody></table></div></details></td></tr></tbody></table><style>\n",
       ".dni-code-hint {\n",
       "    font-style: italic;\n",
       "    overflow: hidden;\n",
       "    white-space: nowrap;\n",
       "}\n",
       ".dni-treeview {\n",
       "    white-space: nowrap;\n",
       "}\n",
       ".dni-treeview td {\n",
       "    vertical-align: top;\n",
       "    text-align: start;\n",
       "}\n",
       "details.dni-treeview {\n",
       "    padding-left: 1em;\n",
       "}\n",
       "table td {\n",
       "    text-align: start;\n",
       "}\n",
       "table tr { \n",
       "    vertical-align: top; \n",
       "    margin: 0em 0px;\n",
       "}\n",
       "table tr td pre \n",
       "{ \n",
       "    vertical-align: top !important; \n",
       "    margin: 0em 0px !important;\n",
       "} \n",
       "table th {\n",
       "    text-align: start;\n",
       "}\n",
       "</style>"
      ]
     },
     "metadata": {},
     "output_type": "display_data"
    }
   ],
   "source": [
    "//// test\n",
    "\n",
    "join dyn listm'.init_series 1i32 10000 1\n",
    "|> listm.map (fun _ => roll_progressively None roll_dice true 10i32)\n",
    "|> listm'.group_by id\n",
    "|> listm.map (fun (k, v) => k, (listm.length v : i32))\n",
    "|> listm'.box\n",
    "|> listm'.to_array'\n",
    "|> fun ar =>\n",
    "    $'!ar |> Array.sortBy (fun (struct (a, b)) -> a)' : a i32 $'struct (int32 * int32)'"
   ]
  },
  {
   "cell_type": "code",
   "execution_count": null,
   "metadata": {
    "dotnet_interactive": {
     "language": "spiral"
    },
    "polyglot_notebook": {
     "kernelName": "spiral"
    }
   },
   "outputs": [
    {
     "name": "stdout",
     "output_type": "stream",
     "text": [
      "__assert_eq / actual: 1 / expected: 1\n",
      "__assert_eq / actual: 1 / expected: 1\n",
      "__assert_eq / actual: 2 / expected: 2\n",
      "__assert_eq / actual: 2 / expected: 2\n",
      "__assert_eq / actual: 3 / expected: 3\n",
      "__assert_eq / actual: 3 / expected: 3\n",
      "__assert_eq / actual: 4 / expected: 4\n",
      "__assert_eq / actual: 4 / expected: 4\n",
      "__assert_eq / actual: 5 / expected: 5\n",
      "__assert_eq / actual: 5 / expected: 5\n",
      "__assert_eq / actual: 6 / expected: 6\n",
      "__assert_eq / actual: 6 / expected: 6\n",
      "__assert_eq / actual: 7 / expected: 7\n",
      "__assert_eq / actual: 7 / expected: 7\n",
      "__assert_eq / actual: 8 / expected: 8\n",
      "__assert_eq / actual: 8 / expected: 8\n",
      "__assert_eq / actual: 9 / expected: 9\n",
      "__assert_eq / actual: 9 / expected: 9\n",
      "__assert_eq / actual: 10 / expected: 10\n",
      "__assert_eq / actual: 10 / expected: 10\n",
      "__assert_eq / actual: 11 / expected: 11\n",
      "__assert_eq / actual: 11 / expected: 11\n",
      "__assert_eq / actual: 12 / expected: 12\n",
      "__assert_eq / actual: 12 / expected: 12\n",
      "__assert_eq / actual: 13 / expected: 13\n",
      "__assert_eq / actual: 13 / expected: 13\n",
      "__assert_eq / actual: 14 / expected: 14\n",
      "__assert_eq / actual: 14 / expected: 14\n",
      "__assert_eq / actual: 15 / expected: 15\n",
      "__assert_eq / actual: 15 / expected: 15\n",
      "__assert_eq / actual: 16 / expected: 16\n",
      "__assert_eq / actual: 16 / expected: 16\n",
      "__assert_eq / actual: 17 / expected: 17\n",
      "__assert_eq / actual: 17 / expected: 17\n",
      "__assert_eq / actual: 18 / expected: 18\n",
      "__assert_eq / actual: 18 / expected: 18\n",
      "__assert_eq / actual: 19 / expected: 19\n",
      "__assert_eq / actual: 19 / expected: 19\n",
      "__assert_eq / actual: 20 / expected: 20\n",
      "__assert_eq / actual: 20 / expected: 20\n",
      "__assert_eq / actual: 21 / expected: 21\n",
      "__assert_eq / actual: 21 / expected: 21\n",
      "__assert_eq / actual: 22 / expected: 22\n",
      "__assert_eq / actual: 22 / expected: 22\n",
      "__assert_eq / actual: 23 / expected: 23\n",
      "__assert_eq / actual: 23 / expected: 23\n",
      "__assert_eq / actual: 24 / expected: 24\n",
      "__assert_eq / actual: 24 / expected: 24\n",
      "__assert_eq / actual: 25 / expected: 25\n",
      "__assert_eq / actual: 25 / expected: 25\n",
      "__assert_eq / actual: 26 / expected: 26\n",
      "__assert_eq / actual: 26 / expected: 26\n",
      "__assert_eq / actual: 27 / expected: 27\n",
      "__assert_eq / actual: 27 / expected: 27\n",
      "__assert_eq / actual: 28 / expected: 28\n",
      "__assert_eq / actual: 28 / expected: 28\n",
      "__assert_eq / actual: 29 / expected: 29\n",
      "__assert_eq / actual: 29 / expected: 29\n",
      "__assert_eq / actual: 30 / expected: 30\n",
      "__assert_eq / actual: 30 / expected: 30\n",
      "__assert_eq / actual: 31 / expected: 31\n",
      "__assert_eq / actual: 31 / expected: 31\n",
      "__assert_eq / actual: 32 / expected: 32\n",
      "__assert_eq / actual: 32 / expected: 32\n",
      "__assert_eq / actual: 33 / expected: 33\n",
      "__assert_eq / actual: 33 / expected: 33\n",
      "__assert_eq / actual: 34 / expected: 34\n",
      "__assert_eq / actual: 34 / expected: 34\n",
      "__assert_eq / actual: 35 / expected: 35\n",
      "__assert_eq / actual: 35 / expected: 35\n",
      "__assert_eq / actual: 36 / expected: 36\n",
      "__assert_eq / actual: 36 / expected: 36\n",
      "__assert_eq / actual: 37 / expected: 37\n",
      "__assert_eq / actual: 37 / expected: 37\n",
      "__assert_eq / actual: 38 / expected: 38\n",
      "__assert_eq / actual: 38 / expected: 38\n",
      "__assert_eq / actual: 39 / expected: 39\n",
      "__assert_eq / actual: 39 / expected: 39\n",
      "__assert_eq / actual: 40 / expected: 40\n",
      "__assert_eq / actual: 40 / expected: 40\n",
      "__assert_eq / actual: 41 / expected: 41\n",
      "__assert_eq / actual: 41 / expected: 41\n",
      "__assert_eq / actual: 42 / expected: 42\n",
      "__assert_eq / actual: 42 / expected: 42\n",
      "__assert_eq / actual: 43 / expected: 43\n",
      "__assert_eq / actual: 43 / expected: 43\n",
      "__assert_eq / actual: 44 / expected: 44\n",
      "__assert_eq / actual: 44 / expected: 44\n",
      "__assert_eq / actual: 45 / expected: 45\n",
      "__assert_eq / actual: 45 / expected: 45\n",
      "__assert_eq / actual: 46 / expected: 46\n",
      "__assert_eq / actual: 46 / expected: 46\n",
      "__assert_eq / actual: 47 / expected: 47\n",
      "__assert_eq / actual: 47 / expected: 47\n",
      "__assert_eq / actual: 48 / expected: 48\n",
      "__assert_eq / actual: 48 / expected: 48\n",
      "__assert_eq / actual: 49 / expected: 49\n",
      "__assert_eq / actual: 49 / expected: 49\n",
      "__assert_eq / actual: 50 / expected: 50\n",
      "__assert_eq / actual: 50 / expected: 50\n",
      "__assert_eq / actual: 51 / expected: 51\n",
      "__assert_eq / actual: 51 / expected: 51\n",
      "__assert_eq / actual: 52 / expected: 52\n",
      "__assert_eq / actual: 52 / expected: 52\n",
      "__assert_eq / actual: 53 / expected: 53\n",
      "__assert_eq / actual: 53 / expected: 53\n",
      "__assert_eq / actual: 54 / expected: 54\n",
      "__assert_eq / actual: 54 / expected: 54\n",
      "__assert_eq / actual: 55 / expected: 55\n",
      "__assert_eq / actual: 55 / expected: 55\n",
      "__assert_eq / actual: 56 / expected: 56\n",
      "__assert_eq / actual: 56 / expected: 56\n",
      "__assert_eq / actual: 57 / expected: 57\n",
      "__assert_eq / actual: 57 / expected: 57\n",
      "__assert_eq / actual: 58 / expected: 58\n",
      "__assert_eq / actual: 58 / expected: 58\n",
      "__assert_eq / actual: 59 / expected: 59\n",
      "__assert_eq / actual: 59 / expected: 59\n",
      "__assert_eq / actual: 60 / expected: 60\n",
      "__assert_eq / actual: 60 / expected: 60\n",
      "__assert_eq / actual: 61 / expected: 61\n",
      "__assert_eq / actual: 61 / expected: 61\n",
      "__assert_eq / actual: 62 / expected: 62\n",
      "__assert_eq / actual: 62 / expected: 62\n",
      "__assert_eq / actual: 63 / expected: 63\n",
      "__assert_eq / actual: 63 / expected: 63\n",
      "__assert_eq / actual: 64 / expected: 64\n",
      "__assert_eq / actual: 64 / expected: 64\n",
      "__assert_eq / actual: 65 / expected: 65\n",
      "__assert_eq / actual: 65 / expected: 65\n",
      "__assert_eq / actual: 66 / expected: 66\n",
      "__assert_eq / actual: 66 / expected: 66\n",
      "__assert_eq / actual: 67 / expected: 67\n",
      "__assert_eq / actual: 67 / expected: 67\n",
      "__assert_eq / actual: 68 / expected: 68\n",
      "__assert_eq / actual: 68 / expected: 68\n",
      "__assert_eq / actual: 69 / expected: 69\n",
      "__assert_eq / actual: 69 / expected: 69\n",
      "__assert_eq / actual: 70 / expected: 70\n",
      "__assert_eq / actual: 70 / expected: 70\n",
      "__assert_eq / actual: 71 / expected: 71\n",
      "__assert_eq / actual: 71 / expected: 71\n",
      "__assert_eq / actual: 72 / expected: 72\n",
      "__assert_eq / actual: 72 / expected: 72\n",
      "__assert_eq / actual: 73 / expected: 73\n",
      "__assert_eq / actual: 73 / expected: 73\n",
      "__assert_eq / actual: 74 / expected: 74\n",
      "__assert_eq / actual: 74 / expected: 74\n",
      "__assert_eq / actual: 75 / expected: 75\n",
      "__assert_eq / actual: 75 / expected: 75\n",
      "__assert_eq / actual: 76 / expected: 76\n",
      "__assert_eq / actual: 76 / expected: 76\n",
      "__assert_eq / actual: 77 / expected: 77\n",
      "__assert_eq / actual: 77 / expected: 77\n",
      "__assert_eq / actual: 78 / expected: 78\n",
      "__assert_eq / actual: 78 / expected: 78\n",
      "__assert_eq / actual: 79 / expected: 79\n",
      "__assert_eq / actual: 79 / expected: 79\n",
      "__assert_eq / actual: 80 / expected: 80\n",
      "__assert_eq / actual: 80 / expected: 80\n",
      "__assert_eq / actual: 81 / expected: 81\n",
      "__assert_eq / actual: 81 / expected: 81\n",
      "__assert_eq / actual: 82 / expected: 82\n",
      "__assert_eq / actual: 82 / expected: 82\n",
      "__assert_eq / actual: 83 / expected: 83\n",
      "__assert_eq / actual: 83 / expected: 83\n",
      "__assert_eq / actual: 84 / expected: 84\n",
      "__assert_eq / actual: 84 / expected: 84\n",
      "__assert_eq / actual: 85 / expected: 85\n",
      "__assert_eq / actual: 85 / expected: 85\n",
      "__assert_eq / actual: 86 / expected: 86\n",
      "__assert_eq / actual: 86 / expected: 86\n",
      "__assert_eq / actual: 87 / expected: 87\n",
      "__assert_eq / actual: 87 / expected: 87\n",
      "__assert_eq / actual: 88 / expected: 88\n",
      "__assert_eq / actual: 88 / expected: 88\n",
      "__assert_eq / actual: 89 / expected: 89\n",
      "__assert_eq / actual: 89 / expected: 89\n",
      "__assert_eq / actual: 90 / expected: 90\n",
      "__assert_eq / actual: 90 / expected: 90\n",
      "__assert_eq / actual: 91 / expected: 91\n",
      "__assert_eq / actual: 91 / expected: 91\n",
      "__assert_eq / actual: 92 / expected: 92\n",
      "__assert_eq / actual: 92 / expected: 92\n",
      "__assert_eq / actual: 93 / expected: 93\n",
      "__assert_eq / actual: 93 / expected: 93\n",
      "__assert_eq / actual: 94 / expected: 94\n",
      "__assert_eq / actual: 94 / expected: 94\n",
      "__assert_eq / actual: 95 / expected: 95\n",
      "__assert_eq / actual: 95 / expected: 95\n",
      "__assert_eq / actual: 96 / expected: 96\n",
      "__assert_eq / actual: 96 / expected: 96\n",
      "__assert_eq / actual: 97 / expected: 97\n",
      "__assert_eq / actual: 97 / expected: 97\n",
      "__assert_eq / actual: 98 / expected: 98\n",
      "__assert_eq / actual: 98 / expected: 98\n",
      "__assert_eq / actual: 99 / expected: 99\n",
      "__assert_eq / actual: 99 / expected: 99\n",
      "__assert_eq / actual: 100 / expected: 100\n",
      "__assert_eq / actual: 100 / expected: 100\n"
     ]
    }
   ],
   "source": [
    "//// test\n",
    "//// timeout=180000\n",
    "\n",
    "join dyn listm'.init_series 1i32 100 1\n",
    "|> listm.iter fun n =>\n",
    "    listm'.init_series 0i32 1 1\n",
    "    |> listm.iter fun reroll =>\n",
    "        join dyn listm'.init_series 1i32 3500 1\n",
    "        |> listm.map fun _ => roll_progressively None roll_dice (reroll = 1) n\n",
    "        |> listm'.group_by id\n",
    "        |> listm.length\n",
    "        |> _assert_eq n"
   ]
  },
  {
   "cell_type": "markdown",
   "metadata": {},
   "source": [
    "## main"
   ]
  },
  {
   "cell_type": "code",
   "execution_count": null,
   "metadata": {
    "dotnet_interactive": {
     "language": "spiral"
    },
    "polyglot_notebook": {
     "kernelName": "spiral"
    }
   },
   "outputs": [],
   "source": [
    "inl main (_args : array_base string) =\n",
    "    inl result = roll_progressively (Some console.write_line) roll_dice true (limit.max : i64)\n",
    "    console.write_line ($'$\"result: {!result}\"' : string)\n",
    "    0i32\n",
    "\n",
    "inl main () =\n",
    "    inl rotate_numbers' : i64 -> stream.stream u8 -> stream.stream u8 =\n",
    "        rotate_numbers\n",
    "\n",
    "    inl create_sequential_roller' :\n",
    "        optionm'.option' (string -> ())\n",
    "        -> list u8 \n",
    "        -> (() -> u8)\n",
    "        =\n",
    "        optionm'.unbox >> create_sequential_roller\n",
    "\n",
    "    inl roll_progressively' :\n",
    "        optionm'.option' (string -> ()) \n",
    "        -> (() -> u8)\n",
    "        -> bool\n",
    "        -> u64\n",
    "        -> u64\n",
    "        =\n",
    "        optionm'.unbox >> roll_progressively\n",
    "\n",
    "    inl roll_within_bounds' :\n",
    "        optionm'.option' (string -> ())\n",
    "        -> u64\n",
    "        -> list u8\n",
    "        -> optionm'.option' u64\n",
    "        =\n",
    "        fun a b c =>\n",
    "            (optionm'.unbox >> roll_within_bounds) a b c\n",
    "            |> optionm'.box\n",
    "\n",
    "    $'let rotate_numbers x = !rotate_numbers' x' : ()\n",
    "    $'let create_sequential_roller x = !create_sequential_roller' x' : ()\n",
    "    $'let roll_progressively x = !roll_progressively' x' : ()\n",
    "    $'let roll_within_bounds x = !roll_within_bounds' x' : ()\n",
    "    $'let main args = !main args' : ()"
   ]
  }
 ],
 "metadata": {},
 "nbformat": 4,
 "nbformat_minor": 5
}