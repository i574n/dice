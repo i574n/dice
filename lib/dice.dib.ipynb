{
 "cells": [
  {
   "cell_type": "markdown",
   "metadata": {},
   "source": [
    "# dice (Dice)"
   ]
  },
  {
   "cell_type": "code",
   "execution_count": null,
   "metadata": {
    "dotnet_interactive": {
     "language": "spiral"
    },
    "polyglot_notebook": {
     "kernelName": "spiral"
    }
   },
   "outputs": [],
   "source": [
    "//// test\n",
    "\n",
    "open testing"
   ]
  },
  {
   "cell_type": "markdown",
   "metadata": {},
   "source": [
    "## sixth_power_sequence"
   ]
  },
  {
   "cell_type": "code",
   "execution_count": null,
   "metadata": {
    "dotnet_interactive": {
     "language": "spiral"
    },
    "polyglot_notebook": {
     "kernelName": "spiral"
    }
   },
   "outputs": [],
   "source": [
    "inl sixth_power_sequence () =\n",
    "    stream.iterate ((*) 6) 1"
   ]
  },
  {
   "cell_type": "code",
   "execution_count": null,
   "metadata": {
    "dotnet_interactive": {
     "language": "spiral"
    },
    "polyglot_notebook": {
     "kernelName": "spiral"
    }
   },
   "outputs": [
    {
     "name": "stdout",
     "output_type": "stream",
     "text": [
      "__assert_eq / actual: UH0_1\n",
      "  (1,\n",
      "   UH0_1\n",
      "     (6,\n",
      "      UH0_1\n",
      "        (36,\n",
      "         UH0_1\n",
      "           (216,\n",
      "            UH0_1 (1296, UH0_1 (7776, UH0_1 (46656, UH0_1 (279936, UH0_0)))))))) / expected: UH0_1\n",
      "  (1,\n",
      "   UH0_1\n",
      "     (6,\n",
      "      UH0_1\n",
      "        (36,\n",
      "         UH0_1\n",
      "           (216,\n",
      "            UH0_1 (1296, UH0_1 (7776, UH0_1 (46656, UH0_1 (279936, UH0_0))))))))\n"
     ]
    }
   ],
   "source": [
    "//// test\n",
    "\n",
    "sixth_power_sequence ()\n",
    "|> stream.take_while (fun _ i => i <= 7i32)\n",
    "|> stream.to_list\n",
    "|> _assert_eq [ 1i32; 6; 36; 216; 1296; 7776; 46656; 279936 ]"
   ]
  },
  {
   "cell_type": "markdown",
   "metadata": {},
   "source": [
    "## accumulate_dice_rolls"
   ]
  },
  {
   "cell_type": "code",
   "execution_count": null,
   "metadata": {
    "dotnet_interactive": {
     "language": "spiral"
    },
    "polyglot_notebook": {
     "kernelName": "spiral"
    }
   },
   "outputs": [],
   "source": [
    "inl accumulate_dice_rolls\n",
    "    (rolls : list u8)\n",
    "    (power : i8)\n",
    "    acc\n",
    "    =\n",
    "    inl rec body acc power rolls =\n",
    "        match rolls with\n",
    "        | _ when power < 0 =>\n",
    "            inl result = acc + 1\n",
    "            trace Debug\n",
    "                fun () => $'$\"dice.accumulate_dice_rolls\"'\n",
    "                fun () => { power acc result }\n",
    "            Some (result, rolls)\n",
    "        | [] => None\n",
    "        | roll :: rest when roll > 1 =>\n",
    "            inl coeff = sixth_power_sequence () |> stream.item power\n",
    "            inl value = conv (roll - 1) * coeff\n",
    "            trace Debug\n",
    "                fun () => $'$\"dice.accumulate_dice_rolls\"'\n",
    "                fun () => { power acc roll value }\n",
    "            loop (acc + value) (power - 1) rest\n",
    "        | roll :: rest =>\n",
    "            trace Debug\n",
    "                fun () => $'$\"dice.accumulate_dice_rolls\"'\n",
    "                fun () => { power acc roll }\n",
    "            loop acc (power - 1) rest\n",
    "    and inl loop acc power rolls =\n",
    "        if var_is rolls |> not\n",
    "        then body acc power rolls\n",
    "        else\n",
    "            inl acc = dyn acc\n",
    "            join body acc power rolls\n",
    "    loop acc power rolls"
   ]
  },
  {
   "cell_type": "code",
   "execution_count": null,
   "metadata": {
    "dotnet_interactive": {
     "language": "spiral"
    },
    "polyglot_notebook": {
     "kernelName": "spiral"
    }
   },
   "outputs": [
    {
     "name": "stdout",
     "output_type": "stream",
     "text": [
      "00:00:00 \u001B[94m  debug\u001B[0m #1 dice.accumulate_dice_rolls / { power = 0; acc = 1000; roll = 6; value = 5 }\n",
      "00:00:00 \u001B[94m  debug\u001B[0m #2 dice.accumulate_dice_rolls / { power = -1; acc = 1005; result = 1006 }\n",
      "__assert_eq / actual: US4_0 (1006, UH0_1 (5uy, UH0_1 (4uy, UH0_1 (3uy, UH0_1 (2uy, UH0_0))))) / expected: US4_0 (1006, UH0_1 (5uy, UH0_1 (4uy, UH0_1 (3uy, UH0_1 (2uy, UH0_0)))))\n"
     ]
    }
   ],
   "source": [
    "//// test\n",
    "\n",
    "accumulate_dice_rolls [ 6; 5; 4; 3; 2 ] 0 1000i32\n",
    "|> _assert_eq (Some (1006, [ 5; 4; 3; 2 ]))"
   ]
  },
  {
   "cell_type": "code",
   "execution_count": null,
   "metadata": {
    "dotnet_interactive": {
     "language": "spiral"
    },
    "polyglot_notebook": {
     "kernelName": "spiral"
    }
   },
   "outputs": [
    {
     "name": "stdout",
     "output_type": "stream",
     "text": [
      "00:00:00 \u001B[94m  debug\u001B[0m #1 dice.accumulate_dice_rolls / { power = 1; acc = 1000; roll = 6; value = 30 }\n",
      "00:00:00 \u001B[94m  debug\u001B[0m #2 dice.accumulate_dice_rolls / { power = 0; acc = 1030; roll = 5; value = 4 }\n",
      "00:00:00 \u001B[94m  debug\u001B[0m #3 dice.accumulate_dice_rolls / { power = -1; acc = 1034; result = 1035 }\n",
      "__assert_eq / actual: US4_0 (1035, UH0_1 (4uy, UH0_1 (3uy, UH0_1 (2uy, UH0_0)))) / expected: US4_0 (1035, UH0_1 (4uy, UH0_1 (3uy, UH0_1 (2uy, UH0_0))))\n"
     ]
    }
   ],
   "source": [
    "//// test\n",
    "\n",
    "accumulate_dice_rolls [ 6; 5; 4; 3; 2 ] 1 1000i32\n",
    "|> _assert_eq (Some (1035, [ 4; 3; 2 ]))"
   ]
  },
  {
   "cell_type": "code",
   "execution_count": null,
   "metadata": {
    "dotnet_interactive": {
     "language": "spiral"
    },
    "polyglot_notebook": {
     "kernelName": "spiral"
    }
   },
   "outputs": [
    {
     "name": "stdout",
     "output_type": "stream",
     "text": [
      "00:00:00 \u001B[94m  debug\u001B[0m #1 dice.accumulate_dice_rolls / { power = 2; acc = 1000; roll = 6; value = 180 }\n",
      "00:00:00 \u001B[94m  debug\u001B[0m #2 dice.accumulate_dice_rolls / { power = 1; acc = 1180; roll = 5; value = 24 }\n",
      "00:00:00 \u001B[94m  debug\u001B[0m #3 dice.accumulate_dice_rolls / { power = 0; acc = 1204; roll = 4; value = 3 }\n",
      "00:00:00 \u001B[94m  debug\u001B[0m #4 dice.accumulate_dice_rolls / { power = -1; acc = 1207; result = 1208 }\n",
      "__assert_eq / actual: US4_0 (1208, UH0_1 (3uy, UH0_1 (2uy, UH0_0))) / expected: US4_0 (1208, UH0_1 (3uy, UH0_1 (2uy, UH0_0)))\n"
     ]
    }
   ],
   "source": [
    "//// test\n",
    "\n",
    "accumulate_dice_rolls [ 6; 5; 4; 3; 2 ] 2 1000i32\n",
    "|> _assert_eq (Some (1208, [ 3; 2 ]))"
   ]
  },
  {
   "cell_type": "markdown",
   "metadata": {},
   "source": [
    "## roll_within_bounds"
   ]
  },
  {
   "cell_type": "code",
   "execution_count": null,
   "metadata": {
    "dotnet_interactive": {
     "language": "spiral"
    },
    "polyglot_notebook": {
     "kernelName": "spiral"
    }
   },
   "outputs": [],
   "source": [
    "inl roll_within_bounds max rolls =\n",
    "    inl power = listm.length rolls - 1\n",
    "    match accumulate_dice_rolls rolls power 0 with\n",
    "    | Some (result, _) when result >= 1 && result <= max => Some result\n",
    "    | _ => None"
   ]
  },
  {
   "cell_type": "code",
   "execution_count": null,
   "metadata": {
    "dotnet_interactive": {
     "language": "spiral"
    },
    "polyglot_notebook": {
     "kernelName": "spiral"
    }
   },
   "outputs": [
    {
     "name": "stdout",
     "output_type": "stream",
     "text": [
      "00:00:00 \u001B[94m  debug\u001B[0m #1 dice.accumulate_dice_rolls / { power = 4; acc = 0; roll = 1 }\n",
      "00:00:00 \u001B[94m  debug\u001B[0m #2 dice.accumulate_dice_rolls / { power = 3; acc = 0; roll = 5; value = 864 }\n",
      "00:00:00 \u001B[94m  debug\u001B[0m #3 dice.accumulate_dice_rolls / { power = 2; acc = 864; roll = 4; value = 108 }\n",
      "00:00:00 \u001B[94m  debug\u001B[0m #4 dice.accumulate_dice_rolls / { power = 1; acc = 972; roll = 4; value = 18 }\n",
      "00:00:00 \u001B[94m  debug\u001B[0m #5 dice.accumulate_dice_rolls / { power = 0; acc = 990; roll = 5; value = 4 }\n",
      "00:00:00 \u001B[94m  debug\u001B[0m #6 dice.accumulate_dice_rolls / { power = -1; acc = 994; result = 995 }\n",
      "__assert_eq / actual: US4_0 995 / expected: US4_0 995\n"
     ]
    }
   ],
   "source": [
    "//// test\n",
    "\n",
    "roll_within_bounds 2000i32 [ 1; 5; 4; 4; 5 ]\n",
    "|> _assert_eq (Some 995)"
   ]
  },
  {
   "cell_type": "code",
   "execution_count": null,
   "metadata": {
    "dotnet_interactive": {
     "language": "spiral"
    },
    "polyglot_notebook": {
     "kernelName": "spiral"
    }
   },
   "outputs": [
    {
     "name": "stdout",
     "output_type": "stream",
     "text": [
      "00:00:00 \u001B[94m  debug\u001B[0m #1 dice.accumulate_dice_rolls / { power = 4; acc = 0; roll = 2; value = 1296 }\n",
      "00:00:00 \u001B[94m  debug\u001B[0m #2 dice.accumulate_dice_rolls / { power = 3; acc = 1296; roll = 2; value = 216 }\n",
      "00:00:00 \u001B[94m  debug\u001B[0m #3 dice.accumulate_dice_rolls / { power = 2; acc = 1512; roll = 6; value = 180 }\n",
      "00:00:00 \u001B[94m  debug\u001B[0m #4 dice.accumulate_dice_rolls / { power = 1; acc = 1692; roll = 4; value = 18 }\n",
      "00:00:00 \u001B[94m  debug\u001B[0m #5 dice.accumulate_dice_rolls / { power = 0; acc = 1710; roll = 5; value = 4 }\n",
      "00:00:00 \u001B[94m  debug\u001B[0m #6 dice.accumulate_dice_rolls / { power = -1; acc = 1714; result = 1715 }\n",
      "__assert_eq / actual: US4_0 1715 / expected: US4_0 1715\n"
     ]
    }
   ],
   "source": [
    "//// test\n",
    "\n",
    "roll_within_bounds 2000i32 [ 2; 2; 6; 4; 5 ]\n",
    "|> _assert_eq (Some 1715)"
   ]
  },
  {
   "cell_type": "code",
   "execution_count": null,
   "metadata": {
    "dotnet_interactive": {
     "language": "spiral"
    },
    "polyglot_notebook": {
     "kernelName": "spiral"
    }
   },
   "outputs": [
    {
     "name": "stdout",
     "output_type": "stream",
     "text": [
      "00:00:00 \u001B[94m  debug\u001B[0m #1 dice.accumulate_dice_rolls / { power = 4; acc = 0; roll = 4; value = 3888 }\n",
      "00:00:00 \u001B[94m  debug\u001B[0m #2 dice.accumulate_dice_rolls / { power = 3; acc = 3888; roll = 1 }\n",
      "00:00:00 \u001B[94m  debug\u001B[0m #3 dice.accumulate_dice_rolls / { power = 2; acc = 3888; roll = 1 }\n",
      "00:00:00 \u001B[94m  debug\u001B[0m #4 dice.accumulate_dice_rolls / { power = 1; acc = 3888; roll = 2; value = 6 }\n",
      "00:00:00 \u001B[94m  debug\u001B[0m #5 dice.accumulate_dice_rolls / { power = 0; acc = 3894; roll = 3; value = 2 }\n",
      "00:00:00 \u001B[94m  debug\u001B[0m #6 dice.accumulate_dice_rolls / { power = -1; acc = 3896; result = 3897 }\n",
      "__assert_eq / actual: US4_1 / expected: US4_1\n"
     ]
    }
   ],
   "source": [
    "//// test\n",
    "\n",
    "roll_within_bounds 2000i32 [ 4; 1; 1; 2; 3 ]\n",
    "|> _assert_eq None"
   ]
  },
  {
   "cell_type": "markdown",
   "metadata": {},
   "source": [
    "## calculate_dice_count"
   ]
  },
  {
   "cell_type": "code",
   "execution_count": null,
   "metadata": {
    "dotnet_interactive": {
     "language": "spiral"
    },
    "polyglot_notebook": {
     "kernelName": "spiral"
    }
   },
   "outputs": [],
   "source": [
    "inl calculate_dice_count max =\n",
    "    inl rec body n p =\n",
    "        inl return () =\n",
    "            trace Debug\n",
    "                fun () => $'$\"dice.calculate_dice_count\"'\n",
    "                fun () => { max n p }\n",
    "            n\n",
    "\n",
    "        if p < max then\n",
    "            inl p' = p * 6\n",
    "            if p' > p\n",
    "            then loop (n + 1) p'\n",
    "            else return ()\n",
    "        else return ()\n",
    "\n",
    "    and inl loop n p =\n",
    "        if var_is max |> not\n",
    "        then body n p\n",
    "        else\n",
    "            inl n = dyn n\n",
    "            inl p = dyn p\n",
    "            join body n p\n",
    "    if max = 1\n",
    "    then 1\n",
    "    else loop 0 1"
   ]
  },
  {
   "cell_type": "code",
   "execution_count": null,
   "metadata": {
    "dotnet_interactive": {
     "language": "spiral"
    },
    "polyglot_notebook": {
     "kernelName": "spiral"
    }
   },
   "outputs": [
    {
     "name": "stdout",
     "output_type": "stream",
     "text": [
      "00:00:00 \u001B[94m  debug\u001B[0m #1 dice.calculate_dice_count / { max = 36; n = 2; p = 36 }\n",
      "__assert_eq / actual: 2 / expected: 2\n"
     ]
    }
   ],
   "source": [
    "//// test\n",
    "\n",
    "calculate_dice_count 36i32\n",
    "|> _assert_eq 2i32"
   ]
  },
  {
   "cell_type": "code",
   "execution_count": null,
   "metadata": {
    "dotnet_interactive": {
     "language": "spiral"
    },
    "polyglot_notebook": {
     "kernelName": "spiral"
    }
   },
   "outputs": [
    {
     "name": "stdout",
     "output_type": "stream",
     "text": [
      "00:00:00 \u001B[94m  debug\u001B[0m #1 dice.calculate_dice_count / { max = 7777; n = 6; p = 46656 }\n",
      "__assert_eq / actual: 6 / expected: 6\n"
     ]
    }
   ],
   "source": [
    "//// test\n",
    "\n",
    "calculate_dice_count 7777i32\n",
    "|> _assert_eq 6i32"
   ]
  },
  {
   "cell_type": "markdown",
   "metadata": {},
   "source": [
    "## roll_dice"
   ]
  },
  {
   "cell_type": "code",
   "execution_count": null,
   "metadata": {
    "dotnet_interactive": {
     "language": "spiral"
    },
    "polyglot_notebook": {
     "kernelName": "spiral"
    }
   },
   "outputs": [],
   "source": [
    "let roll_dice () : u8 =\n",
    "    random' 1 7"
   ]
  },
  {
   "cell_type": "markdown",
   "metadata": {},
   "source": [
    "## rotate_number"
   ]
  },
  {
   "cell_type": "code",
   "execution_count": null,
   "metadata": {
    "dotnet_interactive": {
     "language": "spiral"
    },
    "polyglot_notebook": {
     "kernelName": "spiral"
    }
   },
   "outputs": [],
   "source": [
    "inl rotate_number forall t {number}. (max : i64) (n : t) : t =\n",
    "    (conv n - 1 + max) % max + 1 |> conv"
   ]
  },
  {
   "cell_type": "markdown",
   "metadata": {},
   "source": [
    "## rotate_numbers"
   ]
  },
  {
   "cell_type": "code",
   "execution_count": null,
   "metadata": {
    "dotnet_interactive": {
     "language": "spiral"
    },
    "polyglot_notebook": {
     "kernelName": "spiral"
    }
   },
   "outputs": [],
   "source": [
    "inl rotate_numbers max items =\n",
    "    items |> stream.map (rotate_number max)"
   ]
  },
  {
   "cell_type": "code",
   "execution_count": null,
   "metadata": {
    "dotnet_interactive": {
     "language": "spiral"
    },
    "polyglot_notebook": {
     "kernelName": "spiral"
    }
   },
   "outputs": [
    {
     "name": "stdout",
     "output_type": "stream",
     "text": [
      "__assert_eq / actual: UH0_1\n",
      "  (5,\n",
      "   UH0_1\n",
      "     (6,\n",
      "      UH0_1\n",
      "        (1,\n",
      "         UH0_1\n",
      "           (2,\n",
      "            UH0_1\n",
      "              (3,\n",
      "               UH0_1\n",
      "                 (4,\n",
      "                  UH0_1\n",
      "                    (5,\n",
      "                     UH0_1\n",
      "                       (6,\n",
      "                        UH0_1\n",
      "                          (1,\n",
      "                           UH0_1\n",
      "                             (2,\n",
      "                              UH0_1\n",
      "                                (3,\n",
      "                                 UH0_1\n",
      "                                   (4,\n",
      "                                    UH0_1\n",
      "                                      (5, UH0_1 (6, UH0_1 (1, UH0_1 (2, UH0_0)))))))))))))))) / expected: UH0_1\n",
      "  (5,\n",
      "   UH0_1\n",
      "     (6,\n",
      "      UH0_1\n",
      "        (1,\n",
      "         UH0_1\n",
      "           (2,\n",
      "            UH0_1\n",
      "              (3,\n",
      "               UH0_1\n",
      "                 (4,\n",
      "                  UH0_1\n",
      "                    (5,\n",
      "                     UH0_1\n",
      "                       (6,\n",
      "                        UH0_1\n",
      "                          (1,\n",
      "                           UH0_1\n",
      "                             (2,\n",
      "                              UH0_1\n",
      "                                (3,\n",
      "                                 UH0_1\n",
      "                                   (4,\n",
      "                                    UH0_1\n",
      "                                      (5, UH0_1 (6, UH0_1 (1, UH0_1 (2, UH0_0))))))))))))))))\n"
     ]
    }
   ],
   "source": [
    "//// test\n",
    "\n",
    "listm'.init_series -1 14 1i32\n",
    "|> stream.from_list\n",
    "|> rotate_numbers 6\n",
    "|> stream.to_list\n",
    "|> _assert_eq [ 5; 6; 1; 2; 3; 4; 5; 6; 1; 2; 3; 4; 5; 6; 1; 2 ]"
   ]
  },
  {
   "cell_type": "markdown",
   "metadata": {},
   "source": [
    "## create_sequential_roller"
   ]
  },
  {
   "cell_type": "code",
   "execution_count": null,
   "metadata": {
    "dotnet_interactive": {
     "language": "spiral"
    },
    "polyglot_notebook": {
     "kernelName": "spiral"
    }
   },
   "outputs": [],
   "source": [
    "inl create_sequential_roller list =\n",
    "    trace Debug (fun () => $'$\"dice.create_sequential_roller ()\"') id\n",
    "    inl s = list |> listm.rev |> listm.append list |> stream.from_list |> stream.memoize\n",
    "    inl current_index = mut 0i64\n",
    "    inl acc = mut 1\n",
    "    inl len = mut -1\n",
    "    inl last_item = mut None\n",
    "    let rec loop () =\n",
    "        fun () =>\n",
    "            inl current_index = *current_index\n",
    "            inl acc = *acc\n",
    "            inl len = *len\n",
    "            inl last_item = *last_item |> optionm'.box\n",
    "            trace Debug\n",
    "                fun () => $'$\"dice.create_sequential_roller / roll\"'\n",
    "                fun () => { current_index acc len last_item }\n",
    "        |> fun x => x ()\n",
    "        match s () |> stream.try_item *current_index with\n",
    "        | Some item =>\n",
    "            current_index <- *current_index + 1\n",
    "            last_item <- Some item\n",
    "            item\n",
    "        | None =>\n",
    "            trace Debug (fun () => $'$\"dice.create_sequential_roller / roll / None\"') id\n",
    "            if *len = -1\n",
    "            then len <- *current_index\n",
    "            acc <-\n",
    "                if *acc >= *len\n",
    "                then 1\n",
    "                else *acc + 1\n",
    "            current_index <- *acc - 1\n",
    "            last_item <- None\n",
    "            loop ()\n",
    "    loop"
   ]
  },
  {
   "cell_type": "code",
   "execution_count": null,
   "metadata": {
    "dotnet_interactive": {
     "language": "spiral"
    },
    "polyglot_notebook": {
     "kernelName": "spiral"
    }
   },
   "outputs": [
    {
     "name": "stdout",
     "output_type": "stream",
     "text": [
      "00:00:00 \u001B[94m  debug\u001B[0m #1 dice.create_sequential_roller ()\n",
      "00:00:00 \u001B[94m  debug\u001B[0m #2 dice.create_sequential_roller / roll / { current_index = 0; acc = 1; len = -1; last_item = None }\n",
      "00:00:00 \u001B[94m  debug\u001B[0m #3 dice.create_sequential_roller / roll / { current_index = 1; acc = 1; len = -1; last_item = Some 1 }\n",
      "00:00:00 \u001B[94m  debug\u001B[0m #4 dice.create_sequential_roller / roll / { current_index = 2; acc = 1; len = -1; last_item = Some 2 }\n",
      "00:00:00 \u001B[94m  debug\u001B[0m #5 dice.create_sequential_roller / roll / { current_index = 3; acc = 1; len = -1; last_item = Some 3 }\n",
      "00:00:00 \u001B[94m  debug\u001B[0m #6 dice.create_sequential_roller / roll / { current_index = 4; acc = 1; len = -1; last_item = Some 4 }\n",
      "00:00:00 \u001B[94m  debug\u001B[0m #7 dice.create_sequential_roller / roll / { current_index = 5; acc = 1; len = -1; last_item = Some 4 }\n",
      "00:00:00 \u001B[94m  debug\u001B[0m #8 dice.create_sequential_roller / roll / { current_index = 6; acc = 1; len = -1; last_item = Some 3 }\n",
      "00:00:00 \u001B[94m  debug\u001B[0m #9 dice.create_sequential_roller / roll / { current_index = 7; acc = 1; len = -1; last_item = Some 2 }\n",
      "00:00:00 \u001B[94m  debug\u001B[0m #10 dice.create_sequential_roller / roll / { current_index = 8; acc = 1; len = -1; last_item = Some 1 }\n",
      "00:00:00 \u001B[94m  debug\u001B[0m #11 dice.create_sequential_roller / roll / None\n",
      "00:00:00 \u001B[94m  debug\u001B[0m #12 dice.create_sequential_roller / roll / { current_index = 1; acc = 2; len = 8; last_item = None }\n",
      "00:00:00 \u001B[94m  debug\u001B[0m #13 dice.create_sequential_roller / roll / { current_index = 2; acc = 2; len = 8; last_item = Some 2 }\n",
      "00:00:00 \u001B[94m  debug\u001B[0m #14 dice.create_sequential_roller / roll / { current_index = 3; acc = 2; len = 8; last_item = Some 3 }\n",
      "00:00:00 \u001B[94m  debug\u001B[0m #15 dice.create_sequential_roller / roll / { current_index = 4; acc = 2; len = 8; last_item = Some 4 }\n",
      "00:00:00 \u001B[94m  debug\u001B[0m #16 dice.create_sequential_roller / roll / { current_index = 5; acc = 2; len = 8; last_item = Some 4 }\n",
      "00:00:00 \u001B[94m  debug\u001B[0m #17 dice.create_sequential_roller / roll / { current_index = 6; acc = 2; len = 8; last_item = Some 3 }\n",
      "00:00:00 \u001B[94m  debug\u001B[0m #18 dice.create_sequential_roller / roll / { current_index = 7; acc = 2; len = 8; last_item = Some 2 }\n",
      "00:00:00 \u001B[94m  debug\u001B[0m #19 dice.create_sequential_roller / roll / { current_index = 8; acc = 2; len = 8; last_item = Some 1 }\n",
      "00:00:00 \u001B[94m  debug\u001B[0m #20 dice.create_sequential_roller / roll / None\n",
      "00:00:00 \u001B[94m  debug\u001B[0m #21 dice.create_sequential_roller / roll / { current_index = 2; acc = 3; len = 8; last_item = None }\n",
      "00:00:00 \u001B[94m  debug\u001B[0m #22 dice.create_sequential_roller / roll / { current_index = 3; acc = 3; len = 8; last_item = Some 3 }\n",
      "00:00:00 \u001B[94m  debug\u001B[0m #23 dice.create_sequential_roller / roll / { current_index = 4; acc = 3; len = 8; last_item = Some 4 }\n",
      "00:00:00 \u001B[94m  debug\u001B[0m #24 dice.create_sequential_roller / roll / { current_index = 5; acc = 3; len = 8; last_item = Some 4 }\n",
      "00:00:00 \u001B[94m  debug\u001B[0m #25 dice.create_sequential_roller / roll / { current_index = 6; acc = 3; len = 8; last_item = Some 3 }\n",
      "00:00:00 \u001B[94m  debug\u001B[0m #26 dice.create_sequential_roller / roll / { current_index = 7; acc = 3; len = 8; last_item = Some 2 }\n",
      "00:00:00 \u001B[94m  debug\u001B[0m #27 dice.create_sequential_roller / roll / { current_index = 8; acc = 3; len = 8; last_item = Some 1 }\n",
      "00:00:00 \u001B[94m  debug\u001B[0m #28 dice.create_sequential_roller / roll / None\n",
      "00:00:00 \u001B[94m  debug\u001B[0m #29 dice.create_sequential_roller / roll / { current_index = 3; acc = 4; len = 8; last_item = None }\n",
      "00:00:00 \u001B[94m  debug\u001B[0m #30 dice.create_sequential_roller / roll / { current_index = 4; acc = 4; len = 8; last_item = Some 4 }\n",
      "00:00:00 \u001B[94m  debug\u001B[0m #31 dice.create_sequential_roller / roll / { current_index = 5; acc = 4; len = 8; last_item = Some 4 }\n",
      "00:00:00 \u001B[94m  debug\u001B[0m #32 dice.create_sequential_roller / roll / { current_index = 6; acc = 4; len = 8; last_item = Some 3 }\n",
      "00:00:00 \u001B[94m  debug\u001B[0m #33 dice.create_sequential_roller / roll / { current_index = 7; acc = 4; len = 8; last_item = Some 2 }\n",
      "00:00:00 \u001B[94m  debug\u001B[0m #34 dice.create_sequential_roller / roll / { current_index = 8; acc = 4; len = 8; last_item = Some 1 }\n",
      "00:00:00 \u001B[94m  debug\u001B[0m #35 dice.create_sequential_roller / roll / None\n",
      "00:00:00 \u001B[94m  debug\u001B[0m #36 dice.create_sequential_roller / roll / { current_index = 4; acc = 5; len = 8; last_item = None }\n",
      "00:00:00 \u001B[94m  debug\u001B[0m #37 dice.create_sequential_roller / roll / { current_index = 5; acc = 5; len = 8; last_item = Some 4 }\n",
      "00:00:00 \u001B[94m  debug\u001B[0m #38 dice.create_sequential_roller / roll / { current_index = 6; acc = 5; len = 8; last_item = Some 3 }\n",
      "00:00:00 \u001B[94m  debug\u001B[0m #39 dice.create_sequential_roller / roll / { current_index = 7; acc = 5; len = 8; last_item = Some 2 }\n",
      "00:00:00 \u001B[94m  debug\u001B[0m #40 dice.create_sequential_roller / roll / { current_index = 8; acc = 5; len = 8; last_item = Some 1 }\n",
      "00:00:00 \u001B[94m  debug\u001B[0m #41 dice.create_sequential_roller / roll / None\n",
      "00:00:00 \u001B[94m  debug\u001B[0m #42 dice.create_sequential_roller / roll / { current_index = 5; acc = 6; len = 8; last_item = None }\n",
      "00:00:00 \u001B[94m  debug\u001B[0m #43 dice.create_sequential_roller / roll / { current_index = 6; acc = 6; len = 8; last_item = Some 3 }\n",
      "00:00:00 \u001B[94m  debug\u001B[0m #44 dice.create_sequential_roller / roll / { current_index = 7; acc = 6; len = 8; last_item = Some 2 }\n",
      "00:00:00 \u001B[94m  debug\u001B[0m #45 dice.create_sequential_roller / roll / { current_index = 8; acc = 6; len = 8; last_item = Some 1 }\n",
      "00:00:00 \u001B[94m  debug\u001B[0m #46 dice.create_sequential_roller / roll / None\n",
      "00:00:00 \u001B[94m  debug\u001B[0m #47 dice.create_sequential_roller / roll / { current_index = 6; acc = 7; len = 8; last_item = None }\n",
      "00:00:00 \u001B[94m  debug\u001B[0m #48 dice.create_sequential_roller / roll / { current_index = 7; acc = 7; len = 8; last_item = Some 2 }\n",
      "00:00:00 \u001B[94m  debug\u001B[0m #49 dice.create_sequential_roller / roll / { current_index = 8; acc = 7; len = 8; last_item = Some 1 }\n",
      "00:00:00 \u001B[94m  debug\u001B[0m #50 dice.create_sequential_roller / roll / None\n",
      "00:00:00 \u001B[94m  debug\u001B[0m #51 dice.create_sequential_roller / roll / { current_index = 7; acc = 8; len = 8; last_item = None }\n",
      "00:00:00 \u001B[94m  debug\u001B[0m #52 dice.create_sequential_roller / roll / { current_index = 8; acc = 8; len = 8; last_item = Some 1 }\n",
      "00:00:00 \u001B[94m  debug\u001B[0m #53 dice.create_sequential_roller / roll / None\n",
      "00:00:00 \u001B[94m  debug\u001B[0m #54 dice.create_sequential_roller / roll / { current_index = 0; acc = 1; len = 8; last_item = None }\n",
      "00:00:00 \u001B[94m  debug\u001B[0m #55 dice.create_sequential_roller / roll / { current_index = 1; acc = 1; len = 8; last_item = Some 1 }\n",
      "00:00:00 \u001B[94m  debug\u001B[0m #56 dice.create_sequential_roller / roll / { current_index = 2; acc = 1; len = 8; last_item = Some 2 }\n",
      "00:00:00 \u001B[94m  debug\u001B[0m #57 dice.create_sequential_roller / roll / { current_index = 3; acc = 1; len = 8; last_item = Some 3 }\n",
      "00:00:00 \u001B[94m  debug\u001B[0m #58 dice.create_sequential_roller / roll / { current_index = 4; acc = 1; len = 8; last_item = Some 4 }\n",
      "00:00:00 \u001B[94m  debug\u001B[0m #59 dice.create_sequential_roller / roll / { current_index = 5; acc = 1; len = 8; last_item = Some 4 }\n",
      "00:00:00 \u001B[94m  debug\u001B[0m #60 dice.create_sequential_roller / roll / { current_index = 6; acc = 1; len = 8; last_item = Some 3 }\n",
      "00:00:00 \u001B[94m  debug\u001B[0m #61 dice.create_sequential_roller / roll / { current_index = 7; acc = 1; len = 8; last_item = Some 2 }\n",
      "00:00:00 \u001B[94m  debug\u001B[0m #62 dice.create_sequential_roller / roll / { current_index = 8; acc = 1; len = 8; last_item = Some 1 }\n",
      "00:00:00 \u001B[94m  debug\u001B[0m #63 dice.create_sequential_roller / roll / None\n",
      "00:00:00 \u001B[94m  debug\u001B[0m #64 dice.create_sequential_roller / roll / { current_index = 1; acc = 2; len = 8; last_item = None }\n",
      "00:00:00 \u001B[94m  debug\u001B[0m #65 dice.create_sequential_roller / roll / { current_index = 2; acc = 2; len = 8; last_item = Some 2 }\n",
      "00:00:00 \u001B[94m  debug\u001B[0m #66 dice.create_sequential_roller / roll / { current_index = 3; acc = 2; len = 8; last_item = Some 3 }\n",
      "00:00:00 \u001B[94m  debug\u001B[0m #67 dice.create_sequential_roller / roll / { current_index = 4; acc = 2; len = 8; last_item = Some 4 }\n",
      "00:00:00 \u001B[94m  debug\u001B[0m #68 dice.create_sequential_roller / roll / { current_index = 5; acc = 2; len = 8; last_item = Some 4 }\n",
      "00:00:00 \u001B[94m  debug\u001B[0m #69 dice.create_sequential_roller / roll / { current_index = 6; acc = 2; len = 8; last_item = Some 3 }\n",
      "__assert_eq / actual: [|1; 2; 3; 4; 4; 3; 2; 1; 2; 3; 4; 4; 3; 2; 1; 3; 4; 4; 3; 2; 1; 4; 4; 3; 2; 1;\n",
      "  4; 3; 2; 1; 3; 2; 1; 2; 1; 1; 1; 2; 3; 4; 4; 3; 2; 1; 2; 3; 4; 4; 3; 2|] / expected: [|1; 2; 3; 4; 4; 3; 2; 1; 2; 3; 4; 4; 3; 2; 1; 3; 4; 4; 3; 2; 1; 4; 4; 3; 2; 1;\n",
      "  4; 3; 2; 1; 3; 2; 1; 2; 1; 1; 1; 2; 3; 4; 4; 3; 2; 1; 2; 3; 4; 4; 3; 2|]\n"
     ]
    }
   ],
   "source": [
    "//// test\n",
    "\n",
    "inl sequential_roll = create_sequential_roller [ 1i32; 2; 3; 4 ]\n",
    "\n",
    "am.init 50i32 (ignore >> sequential_roll)\n",
    "|> _assert_eq (a ;[ 1; 2; 3; 4; 4; 3; 2; 1; 2; 3; 4; 4; 3; 2; 1; 3; 4; 4; 3; 2; 1; 4; 4; 3; 2; 1;\n",
    "4; 3; 2; 1; 3; 2; 1; 2; 1; 1; 1; 2; 3; 4; 4; 3; 2; 1; 2; 3; 4; 4; 3; 2 ] : a i32 i32)"
   ]
  },
  {
   "cell_type": "markdown",
   "metadata": {},
   "source": [
    "## roll_progressively"
   ]
  },
  {
   "cell_type": "code",
   "execution_count": null,
   "metadata": {
    "dotnet_interactive": {
     "language": "spiral"
    },
    "polyglot_notebook": {
     "kernelName": "spiral"
    }
   },
   "outputs": [],
   "source": [
    "inl roll_progressively roll reroll max =\n",
    "    inl power = (calculate_dice_count max) - 1\n",
    "    let rec loop rolls size =\n",
    "        if size < power + 1\n",
    "        then loop (roll () :: rolls) (size + 1)\n",
    "        else accumulate_dice_rolls rolls power 0 |> function\n",
    "            | Some (result, _) when result <= max => result\n",
    "            | _ when reroll => loop (listm.init power (fun _ => roll ())) power\n",
    "            | _ => loop (roll () :: rolls) (size + 1)\n",
    "    loop [] 0"
   ]
  },
  {
   "cell_type": "code",
   "execution_count": null,
   "metadata": {
    "dotnet_interactive": {
     "language": "spiral"
    },
    "polyglot_notebook": {
     "kernelName": "spiral"
    }
   },
   "outputs": [
    {
     "name": "stdout",
     "output_type": "stream",
     "text": [
      "00:00:00 \u001B[94m  debug\u001B[0m #1 dice.accumulate_dice_rolls / { power = 0; acc = 0; roll = 2; value = 1 }\n",
      "00:00:00 \u001B[94m  debug\u001B[0m #2 dice.accumulate_dice_rolls / { power = -1; acc = 1; result = 2 }\n",
      "00:00:00 \u001B[94m  debug\u001B[0m #3 dice.accumulate_dice_rolls / { power = 0; acc = 0; roll = 1 }\n",
      "00:00:00 \u001B[94m  debug\u001B[0m #4 dice.accumulate_dice_rolls / { power = -1; acc = 0; result = 1 }\n",
      "__assert_eq / actual: 1 / expected: 1\n"
     ]
    }
   ],
   "source": [
    "//// test\n",
    "\n",
    "roll_progressively roll_dice false 1\n",
    "|> _assert_eq 1i32"
   ]
  },
  {
   "cell_type": "code",
   "execution_count": null,
   "metadata": {
    "dotnet_interactive": {
     "language": "spiral"
    },
    "polyglot_notebook": {
     "kernelName": "spiral"
    }
   },
   "outputs": [
    {
     "name": "stdout",
     "output_type": "stream",
     "text": [
      "00:00:00 \u001B[94m  debug\u001B[0m #1 dice.create_sequential_roller ()\n",
      "00:00:00 \u001B[94m  debug\u001B[0m #2 dice.calculate_dice_count / { max = 2000; n = 5; p = 7776 }\n",
      "00:00:00 \u001B[94m  debug\u001B[0m #3 dice.create_sequential_roller / roll / { current_index = 0; acc = 1; len = -1; last_item = None }\n",
      "00:00:00 \u001B[94m  debug\u001B[0m #4 dice.create_sequential_roller / roll / { current_index = 1; acc = 1; len = -1; last_item = Some 5uy }\n",
      "00:00:00 \u001B[94m  debug\u001B[0m #5 dice.create_sequential_roller / roll / { current_index = 2; acc = 1; len = -1; last_item = Some 4uy }\n",
      "00:00:00 \u001B[94m  debug\u001B[0m #6 dice.create_sequential_roller / roll / { current_index = 3; acc = 1; len = -1; last_item = Some 4uy }\n",
      "00:00:00 \u001B[94m  debug\u001B[0m #7 dice.create_sequential_roller / roll / { current_index = 4; acc = 1; len = -1; last_item = Some 5uy }\n",
      "00:00:00 \u001B[94m  debug\u001B[0m #8 dice.accumulate_dice_rolls / { power = 4; acc = 0; roll = 1 }\n",
      "00:00:00 \u001B[94m  debug\u001B[0m #9 dice.accumulate_dice_rolls / { power = 3; acc = 0; roll = 5; value = 864 }\n",
      "00:00:00 \u001B[94m  debug\u001B[0m #10 dice.accumulate_dice_rolls / { power = 2; acc = 864; roll = 4; value = 108 }\n",
      "00:00:00 \u001B[94m  debug\u001B[0m #11 dice.accumulate_dice_rolls / { power = 1; acc = 972; roll = 4; value = 18 }\n",
      "00:00:00 \u001B[94m  debug\u001B[0m #12 dice.accumulate_dice_rolls / { power = 0; acc = 990; roll = 5; value = 4 }\n",
      "00:00:00 \u001B[94m  debug\u001B[0m #13 dice.accumulate_dice_rolls / { power = -1; acc = 994; result = 995 }\n",
      "__assert_eq / actual: 995 / expected: 995\n"
     ]
    }
   ],
   "source": [
    "//// test\n",
    "\n",
    "inl sequential_roll = create_sequential_roller [ 5; 4; 4; 5; 1 ]\n",
    "\n",
    "roll_progressively sequential_roll false 2000i32\n",
    "|> _assert_eq 995"
   ]
  },
  {
   "cell_type": "code",
   "execution_count": null,
   "metadata": {
    "dotnet_interactive": {
     "language": "spiral"
    },
    "polyglot_notebook": {
     "kernelName": "spiral"
    }
   },
   "outputs": [
    {
     "name": "stdout",
     "output_type": "stream",
     "text": [
      "00:00:00 \u001B[94m  debug\u001B[0m #1 dice.create_sequential_roller ()\n",
      "00:00:00 \u001B[94m  debug\u001B[0m #2 dice.calculate_dice_count / { max = 2000; n = 5; p = 7776 }\n",
      "00:00:00 \u001B[94m  debug\u001B[0m #3 dice.create_sequential_roller / roll / { current_index = 0; acc = 1; len = -1; last_item = None }\n",
      "00:00:00 \u001B[94m  debug\u001B[0m #4 dice.create_sequential_roller / roll / { current_index = 1; acc = 1; len = -1; last_item = Some 5uy }\n",
      "00:00:00 \u001B[94m  debug\u001B[0m #5 dice.create_sequential_roller / roll / { current_index = 2; acc = 1; len = -1; last_item = Some 4uy }\n",
      "00:00:00 \u001B[94m  debug\u001B[0m #6 dice.create_sequential_roller / roll / { current_index = 3; acc = 1; len = -1; last_item = Some 4uy }\n",
      "00:00:00 \u001B[94m  debug\u001B[0m #7 dice.create_sequential_roller / roll / { current_index = 4; acc = 1; len = -1; last_item = Some 5uy }\n",
      "00:00:00 \u001B[94m  debug\u001B[0m #8 dice.accumulate_dice_rolls / { power = 4; acc = 0; roll = 2; value = 1296 }\n",
      "00:00:00 \u001B[94m  debug\u001B[0m #9 dice.accumulate_dice_rolls / { power = 3; acc = 1296; roll = 5; value = 864 }\n",
      "00:00:00 \u001B[94m  debug\u001B[0m #10 dice.accumulate_dice_rolls / { power = 2; acc = 2160; roll = 4; value = 108 }\n",
      "00:00:00 \u001B[94m  debug\u001B[0m #11 dice.accumulate_dice_rolls / { power = 1; acc = 2268; roll = 4; value = 18 }\n",
      "00:00:00 \u001B[94m  debug\u001B[0m #12 dice.accumulate_dice_rolls / { power = 0; acc = 2286; roll = 5; value = 4 }\n",
      "00:00:00 \u001B[94m  debug\u001B[0m #13 dice.accumulate_dice_rolls / { power = -1; acc = 2290; result = 2291 }\n",
      "00:00:00 \u001B[94m  debug\u001B[0m #14 dice.create_sequential_roller / roll / { current_index = 5; acc = 1; len = -1; last_item = Some 2uy }\n",
      "00:00:00 \u001B[94m  debug\u001B[0m #15 dice.accumulate_dice_rolls / { power = 4; acc = 0; roll = 2; value = 1296 }\n",
      "00:00:00 \u001B[94m  debug\u001B[0m #16 dice.accumulate_dice_rolls / { power = 3; acc = 1296; roll = 2; value = 216 }\n",
      "00:00:00 \u001B[94m  debug\u001B[0m #17 dice.accumulate_dice_rolls / { power = 2; acc = 1512; roll = 5; value = 144 }\n",
      "00:00:00 \u001B[94m  debug\u001B[0m #18 dice.accumulate_dice_rolls / { power = 1; acc = 1656; roll = 4; value = 18 }\n",
      "00:00:00 \u001B[94m  debug\u001B[0m #19 dice.accumulate_dice_rolls / { power = 0; acc = 1674; roll = 4; value = 3 }\n",
      "00:00:00 \u001B[94m  debug\u001B[0m #20 dice.accumulate_dice_rolls / { power = -1; acc = 1677; result = 1678 }\n",
      "__assert_eq / actual: 1678 / expected: 1678\n"
     ]
    }
   ],
   "source": [
    "//// test\n",
    "\n",
    "inl sequential_roll = create_sequential_roller [ 5; 4; 4; 5; 2 ]\n",
    "\n",
    "roll_progressively sequential_roll false 2000i32\n",
    "|> _assert_eq 1678"
   ]
  },
  {
   "cell_type": "code",
   "execution_count": null,
   "metadata": {
    "dotnet_interactive": {
     "language": "spiral"
    },
    "polyglot_notebook": {
     "kernelName": "spiral"
    }
   },
   "outputs": [
    {
     "data": {
      "text/html": [
       "<table><thead><tr><th><i>index</i></th><th>value</th></tr></thead><tbody><tr><td>0</td><td><details class=\"dni-treeview\"><summary><span class=\"dni-code-hint\"><code>(1, 270)</code></span></summary><div><table><thead><tr></tr></thead><tbody><tr><td>Item1</td><td><div class=\"dni-plaintext\"><pre>1</pre></div></td></tr><tr><td>Item2</td><td><div class=\"dni-plaintext\"><pre>270</pre></div></td></tr></tbody></table></div></details></td></tr><tr><td>1</td><td><details class=\"dni-treeview\"><summary><span class=\"dni-code-hint\"><code>(2, 745)</code></span></summary><div><table><thead><tr></tr></thead><tbody><tr><td>Item1</td><td><div class=\"dni-plaintext\"><pre>2</pre></div></td></tr><tr><td>Item2</td><td><div class=\"dni-plaintext\"><pre>745</pre></div></td></tr></tbody></table></div></details></td></tr><tr><td>2</td><td><details class=\"dni-treeview\"><summary><span class=\"dni-code-hint\"><code>(3, 1317)</code></span></summary><div><table><thead><tr></tr></thead><tbody><tr><td>Item1</td><td><div class=\"dni-plaintext\"><pre>3</pre></div></td></tr><tr><td>Item2</td><td><div class=\"dni-plaintext\"><pre>1317</pre></div></td></tr></tbody></table></div></details></td></tr><tr><td>3</td><td><details class=\"dni-treeview\"><summary><span class=\"dni-code-hint\"><code>(4, 1324)</code></span></summary><div><table><thead><tr></tr></thead><tbody><tr><td>Item1</td><td><div class=\"dni-plaintext\"><pre>4</pre></div></td></tr><tr><td>Item2</td><td><div class=\"dni-plaintext\"><pre>1324</pre></div></td></tr></tbody></table></div></details></td></tr><tr><td>4</td><td><details class=\"dni-treeview\"><summary><span class=\"dni-code-hint\"><code>(5, 1331)</code></span></summary><div><table><thead><tr></tr></thead><tbody><tr><td>Item1</td><td><div class=\"dni-plaintext\"><pre>5</pre></div></td></tr><tr><td>Item2</td><td><div class=\"dni-plaintext\"><pre>1331</pre></div></td></tr></tbody></table></div></details></td></tr><tr><td>5</td><td><details class=\"dni-treeview\"><summary><span class=\"dni-code-hint\"><code>(6, 1250)</code></span></summary><div><table><thead><tr></tr></thead><tbody><tr><td>Item1</td><td><div class=\"dni-plaintext\"><pre>6</pre></div></td></tr><tr><td>Item2</td><td><div class=\"dni-plaintext\"><pre>1250</pre></div></td></tr></tbody></table></div></details></td></tr><tr><td>6</td><td><details class=\"dni-treeview\"><summary><span class=\"dni-code-hint\"><code>(7, 271)</code></span></summary><div><table><thead><tr></tr></thead><tbody><tr><td>Item1</td><td><div class=\"dni-plaintext\"><pre>7</pre></div></td></tr><tr><td>Item2</td><td><div class=\"dni-plaintext\"><pre>271</pre></div></td></tr></tbody></table></div></details></td></tr><tr><td>7</td><td><details class=\"dni-treeview\"><summary><span class=\"dni-code-hint\"><code>(8, 749)</code></span></summary><div><table><thead><tr></tr></thead><tbody><tr><td>Item1</td><td><div class=\"dni-plaintext\"><pre>8</pre></div></td></tr><tr><td>Item2</td><td><div class=\"dni-plaintext\"><pre>749</pre></div></td></tr></tbody></table></div></details></td></tr><tr><td>8</td><td><details class=\"dni-treeview\"><summary><span class=\"dni-code-hint\"><code>(9, 1338)</code></span></summary><div><table><thead><tr></tr></thead><tbody><tr><td>Item1</td><td><div class=\"dni-plaintext\"><pre>9</pre></div></td></tr><tr><td>Item2</td><td><div class=\"dni-plaintext\"><pre>1338</pre></div></td></tr></tbody></table></div></details></td></tr><tr><td>9</td><td><details class=\"dni-treeview\"><summary><span class=\"dni-code-hint\"><code>(10, 1405)</code></span></summary><div><table><thead><tr></tr></thead><tbody><tr><td>Item1</td><td><div class=\"dni-plaintext\"><pre>10</pre></div></td></tr><tr><td>Item2</td><td><div class=\"dni-plaintext\"><pre>1405</pre></div></td></tr></tbody></table></div></details></td></tr></tbody></table><style>\n",
       ".dni-code-hint {\n",
       "    font-style: italic;\n",
       "    overflow: hidden;\n",
       "    white-space: nowrap;\n",
       "}\n",
       ".dni-treeview {\n",
       "    white-space: nowrap;\n",
       "}\n",
       ".dni-treeview td {\n",
       "    vertical-align: top;\n",
       "    text-align: start;\n",
       "}\n",
       "details.dni-treeview {\n",
       "    padding-left: 1em;\n",
       "}\n",
       "table td {\n",
       "    text-align: start;\n",
       "}\n",
       "table tr { \n",
       "    vertical-align: top; \n",
       "    margin: 0em 0px;\n",
       "}\n",
       "table tr td pre \n",
       "{ \n",
       "    vertical-align: top !important; \n",
       "    margin: 0em 0px !important;\n",
       "} \n",
       "table th {\n",
       "    text-align: start;\n",
       "}\n",
       "</style>"
      ]
     },
     "metadata": {},
     "output_type": "display_data"
    }
   ],
   "source": [
    "//// test\n",
    "\n",
    "inl { level } = get_trace_state_or_init None\n",
    "level <- Info\n",
    "\n",
    "join dyn listm'.init_series 1i32 10000 1\n",
    "|> listm.map (fun _ => roll_progressively roll_dice false 10i32)\n",
    "|> listm'.group_by id\n",
    "|> listm.map (fun (k, v) => k, (listm.length v : i32))\n",
    "|> listm'.box\n",
    "|> listm'.to_array'\n",
    "|> fun ar =>\n",
    "    $'!ar |> Array.sortBy (fun (struct (a, b)) -> a)' : a i32 $'struct (int32 * int32)'"
   ]
  },
  {
   "cell_type": "code",
   "execution_count": null,
   "metadata": {
    "dotnet_interactive": {
     "language": "spiral"
    },
    "polyglot_notebook": {
     "kernelName": "spiral"
    }
   },
   "outputs": [
    {
     "data": {
      "text/html": [
       "<table><thead><tr><th><i>index</i></th><th>value</th></tr></thead><tbody><tr><td>0</td><td><details class=\"dni-treeview\"><summary><span class=\"dni-code-hint\"><code>(1, 992)</code></span></summary><div><table><thead><tr></tr></thead><tbody><tr><td>Item1</td><td><div class=\"dni-plaintext\"><pre>1</pre></div></td></tr><tr><td>Item2</td><td><div class=\"dni-plaintext\"><pre>992</pre></div></td></tr></tbody></table></div></details></td></tr><tr><td>1</td><td><details class=\"dni-treeview\"><summary><span class=\"dni-code-hint\"><code>(2, 975)</code></span></summary><div><table><thead><tr></tr></thead><tbody><tr><td>Item1</td><td><div class=\"dni-plaintext\"><pre>2</pre></div></td></tr><tr><td>Item2</td><td><div class=\"dni-plaintext\"><pre>975</pre></div></td></tr></tbody></table></div></details></td></tr><tr><td>2</td><td><details class=\"dni-treeview\"><summary><span class=\"dni-code-hint\"><code>(3, 1020)</code></span></summary><div><table><thead><tr></tr></thead><tbody><tr><td>Item1</td><td><div class=\"dni-plaintext\"><pre>3</pre></div></td></tr><tr><td>Item2</td><td><div class=\"dni-plaintext\"><pre>1020</pre></div></td></tr></tbody></table></div></details></td></tr><tr><td>3</td><td><details class=\"dni-treeview\"><summary><span class=\"dni-code-hint\"><code>(4, 1012)</code></span></summary><div><table><thead><tr></tr></thead><tbody><tr><td>Item1</td><td><div class=\"dni-plaintext\"><pre>4</pre></div></td></tr><tr><td>Item2</td><td><div class=\"dni-plaintext\"><pre>1012</pre></div></td></tr></tbody></table></div></details></td></tr><tr><td>4</td><td><details class=\"dni-treeview\"><summary><span class=\"dni-code-hint\"><code>(5, 945)</code></span></summary><div><table><thead><tr></tr></thead><tbody><tr><td>Item1</td><td><div class=\"dni-plaintext\"><pre>5</pre></div></td></tr><tr><td>Item2</td><td><div class=\"dni-plaintext\"><pre>945</pre></div></td></tr></tbody></table></div></details></td></tr><tr><td>5</td><td><details class=\"dni-treeview\"><summary><span class=\"dni-code-hint\"><code>(6, 981)</code></span></summary><div><table><thead><tr></tr></thead><tbody><tr><td>Item1</td><td><div class=\"dni-plaintext\"><pre>6</pre></div></td></tr><tr><td>Item2</td><td><div class=\"dni-plaintext\"><pre>981</pre></div></td></tr></tbody></table></div></details></td></tr><tr><td>6</td><td><details class=\"dni-treeview\"><summary><span class=\"dni-code-hint\"><code>(7, 1022)</code></span></summary><div><table><thead><tr></tr></thead><tbody><tr><td>Item1</td><td><div class=\"dni-plaintext\"><pre>7</pre></div></td></tr><tr><td>Item2</td><td><div class=\"dni-plaintext\"><pre>1022</pre></div></td></tr></tbody></table></div></details></td></tr><tr><td>7</td><td><details class=\"dni-treeview\"><summary><span class=\"dni-code-hint\"><code>(8, 997)</code></span></summary><div><table><thead><tr></tr></thead><tbody><tr><td>Item1</td><td><div class=\"dni-plaintext\"><pre>8</pre></div></td></tr><tr><td>Item2</td><td><div class=\"dni-plaintext\"><pre>997</pre></div></td></tr></tbody></table></div></details></td></tr><tr><td>8</td><td><details class=\"dni-treeview\"><summary><span class=\"dni-code-hint\"><code>(9, 1018)</code></span></summary><div><table><thead><tr></tr></thead><tbody><tr><td>Item1</td><td><div class=\"dni-plaintext\"><pre>9</pre></div></td></tr><tr><td>Item2</td><td><div class=\"dni-plaintext\"><pre>1018</pre></div></td></tr></tbody></table></div></details></td></tr><tr><td>9</td><td><details class=\"dni-treeview\"><summary><span class=\"dni-code-hint\"><code>(10, 1038)</code></span></summary><div><table><thead><tr></tr></thead><tbody><tr><td>Item1</td><td><div class=\"dni-plaintext\"><pre>10</pre></div></td></tr><tr><td>Item2</td><td><div class=\"dni-plaintext\"><pre>1038</pre></div></td></tr></tbody></table></div></details></td></tr></tbody></table><style>\n",
       ".dni-code-hint {\n",
       "    font-style: italic;\n",
       "    overflow: hidden;\n",
       "    white-space: nowrap;\n",
       "}\n",
       ".dni-treeview {\n",
       "    white-space: nowrap;\n",
       "}\n",
       ".dni-treeview td {\n",
       "    vertical-align: top;\n",
       "    text-align: start;\n",
       "}\n",
       "details.dni-treeview {\n",
       "    padding-left: 1em;\n",
       "}\n",
       "table td {\n",
       "    text-align: start;\n",
       "}\n",
       "table tr { \n",
       "    vertical-align: top; \n",
       "    margin: 0em 0px;\n",
       "}\n",
       "table tr td pre \n",
       "{ \n",
       "    vertical-align: top !important; \n",
       "    margin: 0em 0px !important;\n",
       "} \n",
       "table th {\n",
       "    text-align: start;\n",
       "}\n",
       "</style>"
      ]
     },
     "metadata": {},
     "output_type": "display_data"
    }
   ],
   "source": [
    "//// test\n",
    "\n",
    "inl { level } = get_trace_state_or_init None\n",
    "level <- Info\n",
    "\n",
    "join dyn listm'.init_series 1i32 10000 1\n",
    "|> listm.map (fun _ => roll_progressively roll_dice true 10i32)\n",
    "|> listm'.group_by id\n",
    "|> listm.map (fun (k, v) => k, (listm.length v : i32))\n",
    "|> listm'.box\n",
    "|> listm'.to_array'\n",
    "|> fun ar =>\n",
    "    $'!ar |> Array.sortBy (fun (struct (a, b)) -> a)' : a i32 $'struct (int32 * int32)'"
   ]
  },
  {
   "cell_type": "code",
   "execution_count": null,
   "metadata": {
    "dotnet_interactive": {
     "language": "spiral"
    },
    "polyglot_notebook": {
     "kernelName": "spiral"
    }
   },
   "outputs": [],
   "source": [
    "//// test\n",
    "//// timeout=180000\n",
    "\n",
    "inl { level } = get_trace_state_or_init None\n",
    "level <- Info\n",
    "\n",
    "join dyn listm'.init_series 1i32 100 1\n",
    "|> listm.iter fun n =>\n",
    "    listm'.init_series 0i32 1 1\n",
    "    |> listm.iter fun reroll =>\n",
    "        join dyn listm'.init_series 1i32 3500 1\n",
    "        |> listm.map fun _ => roll_progressively roll_dice (reroll = 1) n\n",
    "        |> listm'.group_by id\n",
    "        |> listm.length\n",
    "        |> __assert_eq Silent n"
   ]
  },
  {
   "cell_type": "markdown",
   "metadata": {},
   "source": [
    "## main"
   ]
  },
  {
   "cell_type": "code",
   "execution_count": null,
   "metadata": {
    "dotnet_interactive": {
     "language": "spiral"
    },
    "polyglot_notebook": {
     "kernelName": "spiral"
    }
   },
   "outputs": [],
   "source": [
    "inl main (_args : array_base string) =\n",
    "    inl result = roll_progressively roll_dice true (limit.max : i64)\n",
    "    trace Debug\n",
    "        fun () => $'$\"dice.main\"'\n",
    "        fun () => { result }\n",
    "    0i32\n",
    "\n",
    "inl main () =\n",
    "    inl rotate_numbers' : i64 -> stream.stream u8 -> stream.stream u8 =\n",
    "        rotate_numbers\n",
    "\n",
    "    inl create_sequential_roller' :\n",
    "        list u8 \n",
    "        -> (() -> u8)\n",
    "        =\n",
    "        create_sequential_roller\n",
    "\n",
    "    inl roll_progressively' :\n",
    "        (() -> u8)\n",
    "        -> bool\n",
    "        -> u64\n",
    "        -> u64\n",
    "        =\n",
    "        roll_progressively\n",
    "\n",
    "    inl roll_within_bounds' :\n",
    "        u64\n",
    "        -> list u8\n",
    "        -> optionm'.option' u64\n",
    "        =\n",
    "        fun a b =>\n",
    "            roll_within_bounds a b\n",
    "            |> optionm'.box\n",
    "\n",
    "    $'let rotate_numbers x = !rotate_numbers' x' : ()\n",
    "    $'let create_sequential_roller x = !create_sequential_roller' x' : ()\n",
    "    $'let roll_progressively x = !roll_progressively' x' : ()\n",
    "    $'let roll_within_bounds x = !roll_within_bounds' x' : ()\n",
    "    $'let main args = !main args' : ()"
   ]
  }
 ],
 "metadata": {},
 "nbformat": 4,
 "nbformat_minor": 5
}