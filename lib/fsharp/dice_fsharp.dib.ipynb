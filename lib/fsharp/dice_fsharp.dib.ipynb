{
 "cells": [
  {
   "cell_type": "markdown",
   "metadata": {},
   "source": [
    "# DiceFSharp (Dice)"
   ]
  },
  {
   "cell_type": "code",
   "execution_count": null,
   "metadata": {
    "dotnet_interactive": {
     "language": "fsharp"
    },
    "polyglot_notebook": {
     "kernelName": "fsharp"
    }
   },
   "outputs": [],
   "source": [
    "#!import ../../../polyglot/lib/fsharp/Notebooks.dib\n",
    "#!import ../../../polyglot/lib/fsharp/Testing.dib"
   ]
  },
  {
   "cell_type": "code",
   "execution_count": null,
   "metadata": {
    "dotnet_interactive": {
     "language": "fsharp"
    },
    "polyglot_notebook": {
     "kernelName": "fsharp"
    }
   },
   "outputs": [],
   "source": [
    "#!import ../../../polyglot/lib/fsharp/Common.fs"
   ]
  },
  {
   "cell_type": "code",
   "execution_count": null,
   "metadata": {
    "dotnet_interactive": {
     "language": "fsharp"
    },
    "polyglot_notebook": {
     "kernelName": "fsharp"
    }
   },
   "outputs": [],
   "source": [
    "#if !INTERACTIVE\n",
    "open Polyglot\n",
    "open Lib\n",
    "#endif\n",
    "\n",
    "open Common"
   ]
  },
  {
   "cell_type": "markdown",
   "metadata": {},
   "source": [
    "## sixthPowerSequence"
   ]
  },
  {
   "cell_type": "code",
   "execution_count": null,
   "metadata": {
    "dotnet_interactive": {
     "language": "fsharp"
    },
    "polyglot_notebook": {
     "kernelName": "fsharp"
    }
   },
   "outputs": [],
   "source": [
    "let sixthPowerSequence () =\n",
    "    1 |> Seq.unfold (fun state -> Some (state, state * 6)) |> Seq.cache"
   ]
  },
  {
   "cell_type": "code",
   "execution_count": null,
   "metadata": {
    "dotnet_interactive": {
     "language": "fsharp"
    },
    "polyglot_notebook": {
     "kernelName": "fsharp"
    }
   },
   "outputs": [
    {
     "name": "stdout",
     "output_type": "stream",
     "text": [
      "[1; 6; 36; 216; 1296; 7776; 46656; 279936]\n",
      "\n"
     ]
    }
   ],
   "source": [
    "//// test\n",
    "\n",
    "sixthPowerSequence ()\n",
    "|> Seq.take 8\n",
    "|> Seq.toList\n",
    "|> _assertEqual [ 1; 6; 36; 216; 1296; 7776; 46656; 279936 ]"
   ]
  },
  {
   "cell_type": "markdown",
   "metadata": {},
   "source": [
    "## accumulateDiceRolls"
   ]
  },
  {
   "cell_type": "code",
   "execution_count": null,
   "metadata": {
    "dotnet_interactive": {
     "language": "fsharp"
    },
    "polyglot_notebook": {
     "kernelName": "fsharp"
    }
   },
   "outputs": [],
   "source": [
    "let rec accumulateDiceRolls log rolls power acc =\n",
    "    match rolls with\n",
    "    | _ when power < 0 ->\n",
    "        log |> Option.iter ((|>) $\"accumulateDiceRolls / power: {power} / acc: {acc}\")\n",
    "        Some (acc + 1, rolls)\n",
    "    | [] -> None\n",
    "    | roll :: rest when roll > 1 ->\n",
    "        let coeff = sixthPowerSequence () |> Seq.item power\n",
    "        let value = (roll - 1) * coeff\n",
    "        log |> Option.iter ((|>) $\"accumulateDiceRolls / \\\n",
    "            power: {power} / acc: {acc} / roll: {roll} / value: {value}\"\n",
    "        )\n",
    "        accumulateDiceRolls log rest (power - 1) (acc + value)\n",
    "    | roll :: rest ->\n",
    "        log |> Option.iter ((|>) $\"accumulateDiceRolls / power: {power} / acc: {acc} / roll: {roll}\")\n",
    "        accumulateDiceRolls log rest (power - 1) acc"
   ]
  },
  {
   "cell_type": "code",
   "execution_count": null,
   "metadata": {
    "dotnet_interactive": {
     "language": "fsharp"
    },
    "polyglot_notebook": {
     "kernelName": "fsharp"
    }
   },
   "outputs": [
    {
     "name": "stdout",
     "output_type": "stream",
     "text": [
      "accumulateDiceRolls / power: 0 / acc: 1000 / roll: 6 / value: 5\n",
      "accumulateDiceRolls / power: -1 / acc: 1005\n",
      "Some (1006, [5; 4; 3; 2])\n",
      "\n"
     ]
    }
   ],
   "source": [
    "//// test\n",
    "\n",
    "accumulateDiceRolls (Some (printfn \"%s\")) [ 6; 5; 4; 3; 2 ] 0 1000\n",
    "|> _assertEqual (Some (1006, [ 5; 4; 3; 2 ]))"
   ]
  },
  {
   "cell_type": "code",
   "execution_count": null,
   "metadata": {
    "dotnet_interactive": {
     "language": "fsharp"
    },
    "polyglot_notebook": {
     "kernelName": "fsharp"
    }
   },
   "outputs": [
    {
     "name": "stdout",
     "output_type": "stream",
     "text": [
      "accumulateDiceRolls / power: 1 / acc: 1000 / roll: 6 / value: 30\n",
      "accumulateDiceRolls / power: 0 / acc: 1030 / roll: 5 / value: 4\n",
      "accumulateDiceRolls / power: -1 / acc: 1034\n",
      "Some (1035, [4; 3; 2])\n",
      "\n"
     ]
    }
   ],
   "source": [
    "//// test\n",
    "\n",
    "accumulateDiceRolls (Some (printfn \"%s\")) [ 6; 5; 4; 3; 2 ] 1 1000\n",
    "|> _assertEqual (Some (1035, [ 4; 3; 2 ]))"
   ]
  },
  {
   "cell_type": "code",
   "execution_count": null,
   "metadata": {
    "dotnet_interactive": {
     "language": "fsharp"
    },
    "polyglot_notebook": {
     "kernelName": "fsharp"
    }
   },
   "outputs": [
    {
     "name": "stdout",
     "output_type": "stream",
     "text": [
      "accumulateDiceRolls / power: 2 / acc: 1000 / roll: 6 / value: 180\n",
      "accumulateDiceRolls / power: 1 / acc: 1180 / roll: 5 / value: 24\n",
      "accumulateDiceRolls / power: 0 / acc: 1204 / roll: 4 / value: 3\n",
      "accumulateDiceRolls / power: -1 / acc: 1207\n",
      "Some (1208, [3; 2])\n",
      "\n"
     ]
    }
   ],
   "source": [
    "//// test\n",
    "\n",
    "accumulateDiceRolls (Some (printfn \"%s\")) [ 6; 5; 4; 3; 2 ] 2 1000\n",
    "|> _assertEqual (Some (1208, [ 3; 2 ]))"
   ]
  },
  {
   "cell_type": "markdown",
   "metadata": {},
   "source": [
    "## rollWithinBounds"
   ]
  },
  {
   "cell_type": "code",
   "execution_count": null,
   "metadata": {
    "dotnet_interactive": {
     "language": "fsharp"
    },
    "polyglot_notebook": {
     "kernelName": "fsharp"
    }
   },
   "outputs": [],
   "source": [
    "let rollWithinBounds log max rolls =\n",
    "    let power = List.length rolls - 1\n",
    "    match accumulateDiceRolls log rolls power 0 with\n",
    "    | Some (result, _) when result >= 1 && result <= max -> Some result\n",
    "    | _ -> None"
   ]
  },
  {
   "cell_type": "code",
   "execution_count": null,
   "metadata": {
    "dotnet_interactive": {
     "language": "fsharp"
    },
    "polyglot_notebook": {
     "kernelName": "fsharp"
    }
   },
   "outputs": [
    {
     "name": "stdout",
     "output_type": "stream",
     "text": [
      "accumulateDiceRolls / power: 4 / acc: 0 / roll: 1\n",
      "accumulateDiceRolls / power: 3 / acc: 0 / roll: 5 / value: 864\n",
      "accumulateDiceRolls / power: 2 / acc: 864 / roll: 4 / value: 108\n",
      "accumulateDiceRolls / power: 1 / acc: 972 / roll: 4 / value: 18\n",
      "accumulateDiceRolls / power: 0 / acc: 990 / roll: 5 / value: 4\n",
      "accumulateDiceRolls / power: -1 / acc: 994\n",
      "Some 995\n",
      "\n"
     ]
    }
   ],
   "source": [
    "//// test\n",
    "\n",
    "rollWithinBounds (Some (printfn \"%s\")) 2000 [ 1; 5; 4; 4; 5 ]\n",
    "|> _assertEqual (Some 995)"
   ]
  },
  {
   "cell_type": "code",
   "execution_count": null,
   "metadata": {
    "dotnet_interactive": {
     "language": "fsharp"
    },
    "polyglot_notebook": {
     "kernelName": "fsharp"
    }
   },
   "outputs": [
    {
     "name": "stdout",
     "output_type": "stream",
     "text": [
      "accumulateDiceRolls / power: 4 / acc: 0 / roll: 2 / value: 1296\n",
      "accumulateDiceRolls / power: 3 / acc: 1296 / roll: 2 / value: 216\n",
      "accumulateDiceRolls / power: 2 / acc: 1512 / roll: 6 / value: 180\n",
      "accumulateDiceRolls / power: 1 / acc: 1692 / roll: 4 / value: 18\n",
      "accumulateDiceRolls / power: 0 / acc: 1710 / roll: 5 / value: 4\n",
      "accumulateDiceRolls / power: -1 / acc: 1714\n",
      "Some 1715\n",
      "\n"
     ]
    }
   ],
   "source": [
    "//// test\n",
    "\n",
    "rollWithinBounds (Some (printfn \"%s\")) 2000 [ 2; 2; 6; 4; 5 ]\n",
    "|> _assertEqual (Some 1715)"
   ]
  },
  {
   "cell_type": "code",
   "execution_count": null,
   "metadata": {
    "dotnet_interactive": {
     "language": "fsharp"
    },
    "polyglot_notebook": {
     "kernelName": "fsharp"
    }
   },
   "outputs": [
    {
     "name": "stdout",
     "output_type": "stream",
     "text": [
      "accumulateDiceRolls / power: 4 / acc: 0 / roll: 4 / value: 3888\n",
      "accumulateDiceRolls / power: 3 / acc: 3888 / roll: 1\n",
      "accumulateDiceRolls / power: 2 / acc: 3888 / roll: 1\n",
      "accumulateDiceRolls / power: 1 / acc: 3888 / roll: 2 / value: 6\n",
      "accumulateDiceRolls / power: 0 / acc: 3894 / roll: 3 / value: 2\n",
      "accumulateDiceRolls / power: -1 / acc: 3896\n",
      "<null>\n",
      "\n"
     ]
    }
   ],
   "source": [
    "//// test\n",
    "\n",
    "rollWithinBounds (Some (printfn \"%s\")) 2000 [ 4; 1; 1; 2; 3 ]\n",
    "|> _assertEqual None"
   ]
  },
  {
   "cell_type": "markdown",
   "metadata": {},
   "source": [
    "## calculateDiceCount"
   ]
  },
  {
   "cell_type": "code",
   "execution_count": null,
   "metadata": {
    "dotnet_interactive": {
     "language": "fsharp"
    },
    "polyglot_notebook": {
     "kernelName": "fsharp"
    }
   },
   "outputs": [],
   "source": [
    "let inline calculateDiceCount log max =\n",
    "    let rec loop n p =\n",
    "        if p < max\n",
    "        then loop (n + 1) (p * 6)\n",
    "        else\n",
    "            log |> Option.iter ((|>) $\"calculateDiceCount / max: {max} / n: {n} / p: {p}\")\n",
    "            n\n",
    "    if max = 1\n",
    "    then 1\n",
    "    else loop 0 1"
   ]
  },
  {
   "cell_type": "code",
   "execution_count": null,
   "metadata": {
    "dotnet_interactive": {
     "language": "fsharp"
    },
    "polyglot_notebook": {
     "kernelName": "fsharp"
    }
   },
   "outputs": [
    {
     "name": "stdout",
     "output_type": "stream",
     "text": [
      "calculateDiceCount / max: 36 / n: 2 / p: 36\n",
      "2\n",
      "\n"
     ]
    }
   ],
   "source": [
    "//// test\n",
    "\n",
    "calculateDiceCount (Some (printfn \"%s\")) 36\n",
    "|> _assertEqual 2"
   ]
  },
  {
   "cell_type": "code",
   "execution_count": null,
   "metadata": {
    "dotnet_interactive": {
     "language": "fsharp"
    },
    "polyglot_notebook": {
     "kernelName": "fsharp"
    }
   },
   "outputs": [
    {
     "name": "stdout",
     "output_type": "stream",
     "text": [
      "calculateDiceCount / max: 7777 / n: 6 / p: 46656\n",
      "6\n",
      "\n"
     ]
    }
   ],
   "source": [
    "//// test\n",
    "\n",
    "calculateDiceCount (Some (printfn \"%s\")) 7777\n",
    "|> _assertEqual 6"
   ]
  },
  {
   "cell_type": "markdown",
   "metadata": {},
   "source": [
    "## rollDice"
   ]
  },
  {
   "cell_type": "code",
   "execution_count": null,
   "metadata": {
    "dotnet_interactive": {
     "language": "fsharp"
    },
    "polyglot_notebook": {
     "kernelName": "fsharp"
    }
   },
   "outputs": [],
   "source": [
    "#if FABLE_COMPILER_RUST\n",
    "let rollDice () : int =\n",
    "#if !WASM && !CONTRACT\n",
    "    Fable.Core.RustInterop.emitRustExpr () \"rand::Rng::gen_range(&mut rand::thread_rng(), 1..7)\"\n",
    "#else\n",
    "    1\n",
    "#endif\n",
    "#else\n",
    "let private random = System.Random ()\n",
    "let rollDice () =\n",
    "    random.Next (1, 7)\n",
    "#endif"
   ]
  },
  {
   "cell_type": "markdown",
   "metadata": {},
   "source": [
    "## rotateNumber"
   ]
  },
  {
   "cell_type": "code",
   "execution_count": null,
   "metadata": {
    "dotnet_interactive": {
     "language": "fsharp"
    },
    "polyglot_notebook": {
     "kernelName": "fsharp"
    }
   },
   "outputs": [],
   "source": [
    "let rotateNumber max n =\n",
    "    (n - 1 + max) % max + 1"
   ]
  },
  {
   "cell_type": "markdown",
   "metadata": {},
   "source": [
    "## rotateNumbers"
   ]
  },
  {
   "cell_type": "code",
   "execution_count": null,
   "metadata": {
    "dotnet_interactive": {
     "language": "fsharp"
    },
    "polyglot_notebook": {
     "kernelName": "fsharp"
    }
   },
   "outputs": [],
   "source": [
    "let rotateNumbers max items =\n",
    "    items |> Seq.map (rotateNumber max)"
   ]
  },
  {
   "cell_type": "code",
   "execution_count": null,
   "metadata": {
    "dotnet_interactive": {
     "language": "fsharp"
    },
    "polyglot_notebook": {
     "kernelName": "fsharp"
    }
   },
   "outputs": [
    {
     "name": "stdout",
     "output_type": "stream",
     "text": [
      "[5; 6; 1; 2; 3; 4; 5; 6; 1; 2; 3; 4; 5; 6; 1; 2]\n",
      "\n"
     ]
    }
   ],
   "source": [
    "//// test\n",
    "\n",
    "[ -1 .. 14 ]\n",
    "|> rotateNumbers 6\n",
    "|> Seq.toList\n",
    "|> _assertEqual [ 5; 6; 1; 2; 3; 4; 5; 6; 1; 2; 3; 4; 5; 6; 1; 2 ]"
   ]
  },
  {
   "cell_type": "markdown",
   "metadata": {},
   "source": [
    "## createSequentialRoller"
   ]
  },
  {
   "cell_type": "code",
   "execution_count": null,
   "metadata": {
    "dotnet_interactive": {
     "language": "fsharp"
    },
    "polyglot_notebook": {
     "kernelName": "fsharp"
    }
   },
   "outputs": [],
   "source": [
    "let createSequentialRoller list =\n",
    "    let mutable currentIndex = 0\n",
    "    fun () ->\n",
    "        match list |> List.tryItem currentIndex with\n",
    "        | Some item ->\n",
    "            currentIndex <- currentIndex + 1\n",
    "            item\n",
    "        | None ->\n",
    "            failwith \"createSequentialRoller / End of list\""
   ]
  },
  {
   "cell_type": "markdown",
   "metadata": {},
   "source": [
    "## rollProgressively"
   ]
  },
  {
   "cell_type": "code",
   "execution_count": null,
   "metadata": {
    "dotnet_interactive": {
     "language": "fsharp"
    },
    "polyglot_notebook": {
     "kernelName": "fsharp"
    }
   },
   "outputs": [],
   "source": [
    "let rollProgressively log roll reroll max =\n",
    "    let power = (calculateDiceCount log max) - 1\n",
    "    let rec loop rolls size =\n",
    "        if size < power + 1\n",
    "        then loop (roll () :: rolls) (size + 1)\n",
    "        else\n",
    "            match accumulateDiceRolls log rolls power 0 with\n",
    "            | Some (result, _) when result <= max -> result\n",
    "            | _ when reroll -> loop (List.init power (fun _ -> roll ())) power\n",
    "            | _ -> loop (roll () :: rolls) (size + 1)\n",
    "    loop [] 0"
   ]
  },
  {
   "cell_type": "code",
   "execution_count": null,
   "metadata": {
    "dotnet_interactive": {
     "language": "fsharp"
    },
    "polyglot_notebook": {
     "kernelName": "fsharp"
    }
   },
   "outputs": [
    {
     "name": "stdout",
     "output_type": "stream",
     "text": [
      "1\n",
      "\n"
     ]
    }
   ],
   "source": [
    "//// test\n",
    "\n",
    "rollProgressively None rollDice false 1\n",
    "|> _assertEqual 1"
   ]
  },
  {
   "cell_type": "code",
   "execution_count": null,
   "metadata": {
    "dotnet_interactive": {
     "language": "fsharp"
    },
    "polyglot_notebook": {
     "kernelName": "fsharp"
    }
   },
   "outputs": [
    {
     "name": "stdout",
     "output_type": "stream",
     "text": [
      "calculateDiceCount / max: 2000 / n: 5 / p: 7776\n",
      "accumulateDiceRolls / power: 4 / acc: 0 / roll: 1\n",
      "accumulateDiceRolls / power: 3 / acc: 0 / roll: 5 / value: 864\n",
      "accumulateDiceRolls / power: 2 / acc: 864 / roll: 4 / value: 108\n",
      "accumulateDiceRolls / power: 1 / acc: 972 / roll: 4 / value: 18\n",
      "accumulateDiceRolls / power: 0 / acc: 990 / roll: 5 / value: 4\n",
      "accumulateDiceRolls / power: -1 / acc: 994\n",
      "995\n",
      "\n"
     ]
    }
   ],
   "source": [
    "//// test\n",
    "\n",
    "let sequentialRoll = createSequentialRoller [ 5; 4; 4; 5; 1 ]\n",
    "\n",
    "rollProgressively (Some (printfn \"%s\")) sequentialRoll false 2000\n",
    "|> _assertEqual 995"
   ]
  },
  {
   "cell_type": "code",
   "execution_count": null,
   "metadata": {
    "dotnet_interactive": {
     "language": "fsharp"
    },
    "polyglot_notebook": {
     "kernelName": "fsharp"
    }
   },
   "outputs": [
    {
     "name": "stdout",
     "output_type": "stream",
     "text": [
      "<fun:it@5-13>\n",
      "\n",
      "calculateDiceCount / max: 2000 / n: 5 / p: 7776\n",
      "accumulateDiceRolls / power: 4 / acc: 0 / roll: 2 / value: 1296\n",
      "accumulateDiceRolls / power: 3 / acc: 1296 / roll: 5 / value: 864\n",
      "accumulateDiceRolls / power: 2 / acc: 2160 / roll: 4 / value: 108\n",
      "accumulateDiceRolls / power: 1 / acc: 2268 / roll: 4 / value: 18\n",
      "accumulateDiceRolls / power: 0 / acc: 2286 / roll: 5 / value: 4\n",
      "accumulateDiceRolls / power: -1 / acc: 2290\n",
      "\"System.Exception: createSequentialRoller / End of list\"\n",
      "\n"
     ]
    }
   ],
   "source": [
    "//// test\n",
    "\n",
    "let sequentialRoll = createSequentialRoller [ 5; 4; 4; 5; 2 ]\n",
    "\n",
    "fun () -> rollProgressively (Some (printfn \"%s\")) sequentialRoll false 2000 |> ignore\n",
    "|> _throwsC (fun ex _ ->\n",
    "    SpiralSm.format_exception ex\n",
    "    |> _assertEqual \"System.Exception: createSequentialRoller / End of list\"\n",
    ")"
   ]
  },
  {
   "cell_type": "code",
   "execution_count": null,
   "metadata": {
    "dotnet_interactive": {
     "language": "fsharp"
    },
    "polyglot_notebook": {
     "kernelName": "fsharp"
    }
   },
   "outputs": [],
   "source": [
    "//// test\n",
    "\n",
    "[| 1 .. 100 |]\n",
    "|> Array.Parallel.iter (fun n ->\n",
    "    [| 0 .. 1 |]\n",
    "    |> Array.Parallel.iter (fun reroll ->\n",
    "        [| 1 .. 3500 |]\n",
    "        |> Array.Parallel.map (fun _ -> rollProgressively None rollDice (reroll = 1) n)\n",
    "        |> Array.Parallel.groupBy id\n",
    "        |> Array.length\n",
    "        |> __assertEqual false n\n",
    "    )\n",
    ")"
   ]
  },
  {
   "cell_type": "markdown",
   "metadata": {},
   "source": [
    "## FsCheck (test)"
   ]
  },
  {
   "cell_type": "code",
   "execution_count": null,
   "metadata": {
    "dotnet_interactive": {
     "language": "fsharp"
    },
    "polyglot_notebook": {
     "kernelName": "fsharp"
    }
   },
   "outputs": [],
   "source": [
    "#r @\"../../../../../../../.nuget/packages/fscheck/3.0.0-rc3/lib/netstandard2.0/FsCheck.dll\"\n",
    "#r @\"../../../../../../../.nuget/packages/expecto.fscheck/10.2.1-fscheck3/lib/net6.0/Expecto.FsCheck3.dll\""
   ]
  },
  {
   "cell_type": "code",
   "execution_count": null,
   "metadata": {
    "dotnet_interactive": {
     "language": "fsharp"
    },
    "polyglot_notebook": {
     "kernelName": "fsharp"
    }
   },
   "outputs": [
    {
     "name": "stdout",
     "output_type": "stream",
     "text": [
      "Complexidade: Simple, Duração: Short\n",
      "Complexidade: Simple, Duração: Short\n",
      "Complexidade: Simple, Duração: Medium\n",
      "Complexidade: Moderate, Duração: Medium\n",
      "Complexidade: Complex, Duração: Long\n",
      "Complexidade: Complex, Duração: Long\n",
      "\u001B[37m[\u001B[37m05:09:51 \u001B[37mINF\u001B[37m] \u001B[37mEXPECTO? Running tests...\u001B[37m \u001B[37m<\u001B[37mExpecto\u001B[37m>\u001B[37m\n",
      "\u001B[0m\u001B[1000D\u001B[?25h\u001B[37m[\u001B[37m05:09:55 \u001B[37mINF\u001B[37m] \u001B[37mEXPECTO! \u001B[36m7\u001B[37m tests run in \u001B[32m00:00:03.7038605\u001B[37m for \u001B[36mFsCheck samples\u001B[37m – \u001B[36m7\u001B[37m passed, \u001B[36m0\u001B[37m ignored, \u001B[36m0\u001B[37m failed, \u001B[36m0\u001B[37m errored. \u001B[36mSuccess!\u001B[37m \u001B[37m<\u001B[37mExpecto\u001B[37m>\u001B[37m\n",
      "\u001B[0m0\n",
      "\n"
     ]
    }
   ],
   "source": [
    "//// test\n",
    "\n",
    "type ValorDado =\n",
    "    | Um\n",
    "    | Dois\n",
    "    | Tres\n",
    "    | Quatro\n",
    "    | Cinco\n",
    "    | Seis\n",
    "\n",
    "type Aspecto =\n",
    "    | Passado of string\n",
    "    | Presente of string\n",
    "    | Futuro of string\n",
    "    | Desafios of string\n",
    "    | Recursos of string\n",
    "    | ResultadoProjetado of string\n",
    "    | InfluenciaExterna of string\n",
    "\n",
    "type Contexto =\n",
    "    | Amor of string\n",
    "    | Trabalho of string\n",
    "    | Saude of string\n",
    "    | Dinheiro of string\n",
    "\n",
    "type Universo =\n",
    "    | Real of string\n",
    "    | Virtual of string\n",
    "    | Espiritual of string\n",
    "\n",
    "type Caracteristica =\n",
    "    | Aspecto of Aspecto\n",
    "    | Contexto of Contexto\n",
    "    | Universo of Universo\n",
    "    | DadoRolado of ValorDado\n",
    "\n",
    "type Interacao =\n",
    "    | Conflito\n",
    "    | Parceria\n",
    "    | Crescimento\n",
    "    | Estagnacao\n",
    "    | Separacao\n",
    "    | Harmonia\n",
    "    | Desafio\n",
    "    | Colaboracao\n",
    "    | Progresso\n",
    "    | Mudanca\n",
    "    | Sucesso\n",
    "\n",
    "type Interpretacao =\n",
    "    | Interpretacao of Caracteristica * Interacao * Caracteristica\n",
    "\n",
    "type SistemaDivinacao =\n",
    "    | SistemaDivinacao of Interpretacao list * Caracteristica\n",
    "\n",
    "let config = { Expecto.FsCheckConfig.defaultConfig with maxTest = 10000 }\n",
    "\n",
    "let shuffleList xs seed =\n",
    "    let rnd = Random (seed)\n",
    "    xs\n",
    "    |> List.map (fun x -> rnd.Next(), x)\n",
    "    |> List.sortBy fst\n",
    "    |> List.map snd\n",
    "\n",
    "\n",
    "\n",
    "\n",
    "type Complexity = Simple | Moderate | Complex\n",
    "type Duration = Short | Medium | Long\n",
    "\n",
    "type Dice = D1 of int | D2 of int\n",
    "\n",
    "type Task =\n",
    "    | Task of Complexity * Duration * Task\n",
    "    | NoTask\n",
    "\n",
    "let durationOfFocus (d1: int) (d2: int) =\n",
    "    match d1 + d2 with\n",
    "    | sum when sum <= 4 -> Short\n",
    "    | sum when sum <= 8 -> Medium\n",
    "    | _ -> Long\n",
    "\n",
    "let complexityOfTask (d1: int) (d2: int) =\n",
    "    match d1 * d2 with\n",
    "    | product when product <= 12 -> Simple\n",
    "    | product when product <= 24 -> Moderate\n",
    "    | _ -> Complex\n",
    "\n",
    "let rec generateTaskList d1 d2 previousTask =\n",
    "    match d1, d2 with\n",
    "    | d1, d2 when d1 > 0 && d2 > 0 ->\n",
    "        let complexity = complexityOfTask d1 d2\n",
    "        let duration = durationOfFocus d1 d2\n",
    "        let newTask = Task (complexity, duration, previousTask)\n",
    "        generateTaskList (d1 - 1) (d2 - 1) newTask\n",
    "    | _, _ -> previousTask\n",
    "\n",
    "\n",
    "\n",
    "\n",
    "\n",
    "let properties =\n",
    "    Expecto.Tests.testList \"FsCheck samples\" [\n",
    "        let sistemaDivinacao (interpretacoes: Interpretacao list, caracteristica: Caracteristica) =\n",
    "            let interpretacoes = interpretacoes |> List.sort\n",
    "            SistemaDivinacao (interpretacoes, caracteristica)\n",
    "\n",
    "        Expecto.ExpectoFsCheck.testPropertyWithConfig config \"SistemaDivinacao is consistent\" <|\n",
    "            fun (interpretacoes: Interpretacao list, caracteristica: Caracteristica) ->\n",
    "                sistemaDivinacao (interpretacoes, caracteristica)\n",
    "                    = sistemaDivinacao (interpretacoes, caracteristica)\n",
    "\n",
    "        Expecto.ExpectoFsCheck.testPropertyWithConfig config \"SistemaDivinacao is variant under permutation\" <|\n",
    "            fun (input: Interpretacao list, caracteristica: Caracteristica) ->\n",
    "                let seed = 42\n",
    "                let shuffledInput = shuffleList input seed\n",
    "                sistemaDivinacao (input, caracteristica) = sistemaDivinacao (shuffledInput, caracteristica)\n",
    "\n",
    "        Expecto.ExpectoFsCheck.testPropertyWithConfig config \"SistemaDivinacao can handle lists of any size\" <|\n",
    "            fun (input: Interpretacao list, caracteristica: Caracteristica) ->\n",
    "                let sistema = sistemaDivinacao (input, caracteristica)\n",
    "                sistema <> Unchecked.defaultof<_>\n",
    "\n",
    "        Expecto.ExpectoFsCheck.testPropertyWithConfig config \"SistemaDivinacao is invariant under data transformations\" <|\n",
    "            fun (input: Interpretacao list, caracteristica: Caracteristica, newInterpretation: Interpretacao) ->\n",
    "                let containsNewInterpretation = input |> List.contains newInterpretation\n",
    "                let modifiedInput =\n",
    "                    if containsNewInterpretation\n",
    "                    then input\n",
    "                    else newInterpretation :: input\n",
    "                if containsNewInterpretation\n",
    "                then sistemaDivinacao (List.sort input, caracteristica)\n",
    "                        = sistemaDivinacao (List.sort modifiedInput, caracteristica)\n",
    "                else sistemaDivinacao (List.sort input, caracteristica)\n",
    "                        <> sistemaDivinacao (List.sort modifiedInput, caracteristica)\n",
    "\n",
    "\n",
    "\n",
    "\n",
    "\n",
    "\n",
    "        let focusDurationProperty =\n",
    "            FsCheck.FSharp.Prop.forAll (FsCheck.FSharp.Arb.fromGen (FsCheck.FSharp.Gen.map2 (fun d1 d2 -> (d1, d2)) (FsCheck.FSharp.Gen.choose (1, 6)) (FsCheck.FSharp.Gen.choose (1, 6)))) <| fun (d1, d2) ->\n",
    "                let expected =\n",
    "                    match d1 + d2 with\n",
    "                    | sum when sum <= 4 -> Short\n",
    "                    | sum when sum <= 8 -> Medium\n",
    "                    | _ -> Long\n",
    "                let actual = durationOfFocus d1 d2\n",
    "                expected = actual\n",
    "\n",
    "        let taskComplexityProperty =\n",
    "            FsCheck.FSharp.Prop.forAll (FsCheck.FSharp.Arb.fromGen (FsCheck.FSharp.Gen.map2 (fun d1 d2 -> (d1, d2)) (FsCheck.FSharp.Gen.choose (1, 6)) (FsCheck.FSharp.Gen.choose (1, 6)))) <| fun (d1, d2) ->\n",
    "                let expected =\n",
    "                    match d1 * d2 with\n",
    "                    | product when product <= 12 -> Simple\n",
    "                    | product when product <= 24 -> Moderate\n",
    "                    | _ -> Complex\n",
    "                let actual = complexityOfTask d1 d2\n",
    "                expected = actual\n",
    "\n",
    "        let taskListLengthProperty =\n",
    "            FsCheck.FSharp.Prop.forAll (FsCheck.FSharp.Arb.fromGen (FsCheck.FSharp.Gen.map2 (fun d1 d2 -> (d1, d2)) (FsCheck.FSharp.Gen.choose (1, 6)) (FsCheck.FSharp.Gen.choose (1, 6)))) <| fun (d1, d2) ->\n",
    "                let taskList = generateTaskList d1 d2 NoTask\n",
    "                let rec taskListLength taskList =\n",
    "                    match taskList with\n",
    "                    | Task (_, _, nextTask) -> 1 + taskListLength nextTask\n",
    "                    | NoTask -> 0\n",
    "                let actual = taskListLength taskList\n",
    "                let expected = min d1 d2\n",
    "                expected = actual\n",
    "\n",
    "\n",
    "        Expecto.ExpectoFsCheck.testProperty \"Duration of focus should be calculated correctly\" focusDurationProperty\n",
    "        Expecto.ExpectoFsCheck.testProperty \"Task complexity should be calculated correctly\" taskComplexityProperty\n",
    "        Expecto.ExpectoFsCheck.testProperty \"Task list should have the correct length\" taskListLengthProperty\n",
    "\n",
    "\n",
    "\n",
    "    ]\n",
    "\n",
    "let dice1 = 6\n",
    "let dice2 = 6\n",
    "\n",
    "let taskList = generateTaskList dice1 dice2 NoTask\n",
    "\n",
    "let rec printTaskList taskList =\n",
    "    match taskList with\n",
    "    | Task (complexity, duration, nextTask) ->\n",
    "        printfn \"Complexidade: %A, Duração: %A\" complexity duration\n",
    "        printTaskList nextTask\n",
    "    | NoTask -> ()\n",
    "\n",
    "printTaskList taskList\n",
    "\n",
    "Expecto.Tests.runTestsWithCLIArgs [] [||] properties\n",
    "|> _assertEqual 0"
   ]
  },
  {
   "cell_type": "markdown",
   "metadata": {},
   "source": [
    "## main"
   ]
  },
  {
   "cell_type": "code",
   "execution_count": null,
   "metadata": {
    "dotnet_interactive": {
     "language": "fsharp"
    },
    "polyglot_notebook": {
     "kernelName": "fsharp"
    }
   },
   "outputs": [],
   "source": [
    "let main args =\n",
    "    let result = rollProgressively (Some (printfn \"%s\")) rollDice true (System.Int32.MaxValue / 10)\n",
    "    trace Debug (fun () -> $\"main / result: {result}\") _locals\n",
    "    0"
   ]
  }
 ],
 "metadata": {},
 "nbformat": 4,
 "nbformat_minor": 5
}