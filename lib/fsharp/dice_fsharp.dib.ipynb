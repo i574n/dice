{
 "cells": [
  {
   "cell_type": "markdown",
   "metadata": {},
   "source": [
    "# DiceFSharp (Dice)"
   ]
  },
  {
   "cell_type": "code",
   "execution_count": null,
   "metadata": {
    "dotnet_interactive": {
     "language": "fsharp"
    },
    "polyglot_notebook": {
     "kernelName": "fsharp"
    }
   },
   "outputs": [],
   "source": [
    "#!import ../../../polyglot/lib/fsharp/Notebooks.dib\n",
    "#!import ../../../polyglot/lib/fsharp/Testing.dib"
   ]
  },
  {
   "cell_type": "code",
   "execution_count": null,
   "metadata": {
    "dotnet_interactive": {
     "language": "fsharp"
    },
    "polyglot_notebook": {
     "kernelName": "fsharp"
    }
   },
   "outputs": [],
   "source": [
    "#!import ../../../polyglot/lib/fsharp/Common.fs"
   ]
  },
  {
   "cell_type": "code",
   "execution_count": null,
   "metadata": {
    "dotnet_interactive": {
     "language": "fsharp"
    },
    "polyglot_notebook": {
     "kernelName": "fsharp"
    }
   },
   "outputs": [],
   "source": [
    "#if !INTERACTIVE\n",
    "open Polyglot\n",
    "open Lib\n",
    "#endif\n",
    "\n",
    "open Common"
   ]
  },
  {
   "cell_type": "markdown",
   "metadata": {},
   "source": [
    "## sixthPowerSequence"
   ]
  },
  {
   "cell_type": "code",
   "execution_count": null,
   "metadata": {
    "dotnet_interactive": {
     "language": "fsharp"
    },
    "polyglot_notebook": {
     "kernelName": "fsharp"
    }
   },
   "outputs": [],
   "source": [
    "let sixthPowerSequence () =\n",
    "    1 |> Seq.unfold (fun state -> Some (state, state * 6)) |> Seq.cache"
   ]
  },
  {
   "cell_type": "code",
   "execution_count": null,
   "metadata": {
    "dotnet_interactive": {
     "language": "fsharp"
    },
    "polyglot_notebook": {
     "kernelName": "fsharp"
    }
   },
   "outputs": [
    {
     "name": "stdout",
     "output_type": "stream",
     "text": [
      "[ 1, 6, 36, 216, 1296, 7776, 46656, 279936 ]\n"
     ]
    }
   ],
   "source": [
    "//// test\n",
    "\n",
    "sixthPowerSequence ()\n",
    "|> Seq.take 8\n",
    "|> Seq.toList\n",
    "|> _assertEqual [ 1; 6; 36; 216; 1296; 7776; 46656; 279936 ]"
   ]
  },
  {
   "cell_type": "markdown",
   "metadata": {},
   "source": [
    "## accumulateDiceRolls"
   ]
  },
  {
   "cell_type": "code",
   "execution_count": null,
   "metadata": {
    "dotnet_interactive": {
     "language": "fsharp"
    },
    "polyglot_notebook": {
     "kernelName": "fsharp"
    }
   },
   "outputs": [],
   "source": [
    "let rec accumulateDiceRolls log rolls power acc =\n",
    "    match rolls with\n",
    "    | _ when power < 0 ->\n",
    "        log |> Option.iter ((|>) $\"accumulateDiceRolls / power: {power} / acc: {acc}\")\n",
    "        Some (acc + 1, rolls)\n",
    "    | [] -> None\n",
    "    | roll :: rest when roll > 1 ->\n",
    "        let coeff = sixthPowerSequence () |> Seq.item power\n",
    "        let value = (roll - 1) * coeff\n",
    "        log |> Option.iter ((|>) $\"accumulateDiceRolls / \\\n",
    "            power: {power} / acc: {acc} / roll: {roll} / value: {value}\"\n",
    "        )\n",
    "        accumulateDiceRolls log rest (power - 1) (acc + value)\n",
    "    | roll :: rest ->\n",
    "        log |> Option.iter ((|>) $\"accumulateDiceRolls / power: {power} / acc: {acc} / roll: {roll}\")\n",
    "        accumulateDiceRolls log rest (power - 1) acc"
   ]
  },
  {
   "cell_type": "code",
   "execution_count": null,
   "metadata": {
    "dotnet_interactive": {
     "language": "fsharp"
    },
    "polyglot_notebook": {
     "kernelName": "fsharp"
    }
   },
   "outputs": [
    {
     "name": "stdout",
     "output_type": "stream",
     "text": [
      "accumulateDiceRolls / power: 0 / acc: 1000 / roll: 6 / value: 5\n",
      "accumulateDiceRolls / power: -1 / acc: 1005\n",
      "FSharpOption<Tuple<Int32,FSharpList<Int32>>>\n",
      "      Value:       - 1006\n",
      "      - [ 5, 4, 3, 2 ]\n"
     ]
    }
   ],
   "source": [
    "//// test\n",
    "\n",
    "accumulateDiceRolls (Some (printfn \"%s\")) [ 6; 5; 4; 3; 2 ] 0 1000\n",
    "|> _assertEqual (Some (1006, [ 5; 4; 3; 2 ]))"
   ]
  },
  {
   "cell_type": "code",
   "execution_count": null,
   "metadata": {
    "dotnet_interactive": {
     "language": "fsharp"
    },
    "polyglot_notebook": {
     "kernelName": "fsharp"
    }
   },
   "outputs": [
    {
     "name": "stdout",
     "output_type": "stream",
     "text": [
      "accumulateDiceRolls / power: 1 / acc: 1000 / roll: 6 / value: 30\n",
      "accumulateDiceRolls / power: 0 / acc: 1030 / roll: 5 / value: 4\n",
      "accumulateDiceRolls / power: -1 / acc: 1034\n",
      "FSharpOption<Tuple<Int32,FSharpList<Int32>>>\n",
      "      Value:       - 1035\n",
      "      - [ 4, 3, 2 ]\n"
     ]
    }
   ],
   "source": [
    "//// test\n",
    "\n",
    "accumulateDiceRolls (Some (printfn \"%s\")) [ 6; 5; 4; 3; 2 ] 1 1000\n",
    "|> _assertEqual (Some (1035, [ 4; 3; 2 ]))"
   ]
  },
  {
   "cell_type": "code",
   "execution_count": null,
   "metadata": {
    "dotnet_interactive": {
     "language": "fsharp"
    },
    "polyglot_notebook": {
     "kernelName": "fsharp"
    }
   },
   "outputs": [
    {
     "name": "stdout",
     "output_type": "stream",
     "text": [
      "accumulateDiceRolls / power: 2 / acc: 1000 / roll: 6 / value: 180\n",
      "accumulateDiceRolls / power: 1 / acc: 1180 / roll: 5 / value: 24\n",
      "accumulateDiceRolls / power: 0 / acc: 1204 / roll: 4 / value: 3\n",
      "accumulateDiceRolls / power: -1 / acc: 1207\n",
      "FSharpOption<Tuple<Int32,FSharpList<Int32>>>\n",
      "      Value:       - 1208\n",
      "      - [ 3, 2 ]\n"
     ]
    }
   ],
   "source": [
    "//// test\n",
    "\n",
    "accumulateDiceRolls (Some (printfn \"%s\")) [ 6; 5; 4; 3; 2 ] 2 1000\n",
    "|> _assertEqual (Some (1208, [ 3; 2 ]))"
   ]
  },
  {
   "cell_type": "markdown",
   "metadata": {},
   "source": [
    "## rollWithinBounds"
   ]
  },
  {
   "cell_type": "code",
   "execution_count": null,
   "metadata": {
    "dotnet_interactive": {
     "language": "fsharp"
    },
    "polyglot_notebook": {
     "kernelName": "fsharp"
    }
   },
   "outputs": [],
   "source": [
    "let rollWithinBounds log max rolls =\n",
    "    let power = List.length rolls - 1\n",
    "    match accumulateDiceRolls log rolls power 0 with\n",
    "    | Some (result, _) when result >= 1 && result <= max -> Some result\n",
    "    | _ -> None"
   ]
  },
  {
   "cell_type": "code",
   "execution_count": null,
   "metadata": {
    "dotnet_interactive": {
     "language": "fsharp"
    },
    "polyglot_notebook": {
     "kernelName": "fsharp"
    }
   },
   "outputs": [
    {
     "name": "stdout",
     "output_type": "stream",
     "text": [
      "accumulateDiceRolls / power: 4 / acc: 0 / roll: 1\n",
      "accumulateDiceRolls / power: 3 / acc: 0 / roll: 5 / value: 864\n",
      "accumulateDiceRolls / power: 2 / acc: 864 / roll: 4 / value: 108\n",
      "accumulateDiceRolls / power: 1 / acc: 972 / roll: 4 / value: 18\n",
      "accumulateDiceRolls / power: 0 / acc: 990 / roll: 5 / value: 4\n",
      "accumulateDiceRolls / power: -1 / acc: 994\n",
      "FSharpOption<Int32>\n",
      "      Value: 995\n"
     ]
    }
   ],
   "source": [
    "//// test\n",
    "\n",
    "rollWithinBounds (Some (printfn \"%s\")) 2000 [ 1; 5; 4; 4; 5 ]\n",
    "|> _assertEqual (Some 995)"
   ]
  },
  {
   "cell_type": "code",
   "execution_count": null,
   "metadata": {
    "dotnet_interactive": {
     "language": "fsharp"
    },
    "polyglot_notebook": {
     "kernelName": "fsharp"
    }
   },
   "outputs": [
    {
     "name": "stdout",
     "output_type": "stream",
     "text": [
      "accumulateDiceRolls / power: 4 / acc: 0 / roll: 2 / value: 1296\n",
      "accumulateDiceRolls / power: 3 / acc: 1296 / roll: 2 / value: 216\n",
      "accumulateDiceRolls / power: 2 / acc: 1512 / roll: 6 / value: 180\n",
      "accumulateDiceRolls / power: 1 / acc: 1692 / roll: 4 / value: 18\n",
      "accumulateDiceRolls / power: 0 / acc: 1710 / roll: 5 / value: 4\n",
      "accumulateDiceRolls / power: -1 / acc: 1714\n",
      "FSharpOption<Int32>\n",
      "      Value: 1715\n"
     ]
    }
   ],
   "source": [
    "//// test\n",
    "\n",
    "rollWithinBounds (Some (printfn \"%s\")) 2000 [ 2; 2; 6; 4; 5 ]\n",
    "|> _assertEqual (Some 1715)"
   ]
  },
  {
   "cell_type": "code",
   "execution_count": null,
   "metadata": {
    "dotnet_interactive": {
     "language": "fsharp"
    },
    "polyglot_notebook": {
     "kernelName": "fsharp"
    }
   },
   "outputs": [
    {
     "name": "stdout",
     "output_type": "stream",
     "text": [
      "accumulateDiceRolls / power: 4 / acc: 0 / roll: 4 / value: 3888\n",
      "accumulateDiceRolls / power: 3 / acc: 3888 / roll: 1\n",
      "accumulateDiceRolls / power: 2 / acc: 3888 / roll: 1\n",
      "accumulateDiceRolls / power: 1 / acc: 3888 / roll: 2 / value: 6\n",
      "accumulateDiceRolls / power: 0 / acc: 3894 / roll: 3 / value: 2\n",
      "accumulateDiceRolls / power: -1 / acc: 3896\n",
      "<null>\n"
     ]
    }
   ],
   "source": [
    "//// test\n",
    "\n",
    "rollWithinBounds (Some (printfn \"%s\")) 2000 [ 4; 1; 1; 2; 3 ]\n",
    "|> _assertEqual None"
   ]
  },
  {
   "cell_type": "markdown",
   "metadata": {},
   "source": [
    "## calculateDiceCount"
   ]
  },
  {
   "cell_type": "code",
   "execution_count": null,
   "metadata": {
    "dotnet_interactive": {
     "language": "fsharp"
    },
    "polyglot_notebook": {
     "kernelName": "fsharp"
    }
   },
   "outputs": [],
   "source": [
    "let inline calculateDiceCount log max =\n",
    "    let rec loop n p =\n",
    "        if p < max\n",
    "        then loop (n + 1) (p * 6)\n",
    "        else\n",
    "            log |> Option.iter ((|>) $\"calculateDiceCount / max: {max} / n: {n} / p: {p}\")\n",
    "            n\n",
    "    if max = 1\n",
    "    then 1\n",
    "    else loop 0 1"
   ]
  },
  {
   "cell_type": "code",
   "execution_count": null,
   "metadata": {
    "dotnet_interactive": {
     "language": "fsharp"
    },
    "polyglot_notebook": {
     "kernelName": "fsharp"
    }
   },
   "outputs": [
    {
     "name": "stdout",
     "output_type": "stream",
     "text": [
      "calculateDiceCount / max: 36 / n: 2 / p: 36\n",
      "2\n"
     ]
    }
   ],
   "source": [
    "//// test\n",
    "\n",
    "calculateDiceCount (Some (printfn \"%s\")) 36\n",
    "|> _assertEqual 2"
   ]
  },
  {
   "cell_type": "code",
   "execution_count": null,
   "metadata": {
    "dotnet_interactive": {
     "language": "fsharp"
    },
    "polyglot_notebook": {
     "kernelName": "fsharp"
    }
   },
   "outputs": [
    {
     "name": "stdout",
     "output_type": "stream",
     "text": [
      "calculateDiceCount / max: 7777 / n: 6 / p: 46656\n",
      "6\n"
     ]
    }
   ],
   "source": [
    "//// test\n",
    "\n",
    "calculateDiceCount (Some (printfn \"%s\")) 7777\n",
    "|> _assertEqual 6"
   ]
  },
  {
   "cell_type": "markdown",
   "metadata": {},
   "source": [
    "## rollDice"
   ]
  },
  {
   "cell_type": "code",
   "execution_count": null,
   "metadata": {
    "dotnet_interactive": {
     "language": "fsharp"
    },
    "polyglot_notebook": {
     "kernelName": "fsharp"
    }
   },
   "outputs": [],
   "source": [
    "#if FABLE_COMPILER_RUST\n",
    "let rollDice () : int =\n",
    "#if !WASM && !CONTRACT\n",
    "    Fable.Core.RustInterop.emitRustExpr () \"rand::Rng::gen_range(&mut rand::thread_rng(), 1..7)\"\n",
    "#else\n",
    "    1\n",
    "#endif\n",
    "#else\n",
    "let private random = System.Random ()\n",
    "let rollDice () =\n",
    "    random.Next (1, 7)\n",
    "#endif"
   ]
  },
  {
   "cell_type": "markdown",
   "metadata": {},
   "source": [
    "## rotateNumber"
   ]
  },
  {
   "cell_type": "code",
   "execution_count": null,
   "metadata": {
    "dotnet_interactive": {
     "language": "fsharp"
    },
    "polyglot_notebook": {
     "kernelName": "fsharp"
    }
   },
   "outputs": [],
   "source": [
    "let rotateNumber max n =\n",
    "    (n - 1 + max) % max + 1"
   ]
  },
  {
   "cell_type": "markdown",
   "metadata": {},
   "source": [
    "## rotateNumbers"
   ]
  },
  {
   "cell_type": "code",
   "execution_count": null,
   "metadata": {
    "dotnet_interactive": {
     "language": "fsharp"
    },
    "polyglot_notebook": {
     "kernelName": "fsharp"
    }
   },
   "outputs": [],
   "source": [
    "let rotateNumbers max items =\n",
    "    items |> Seq.map (rotateNumber max)"
   ]
  },
  {
   "cell_type": "code",
   "execution_count": null,
   "metadata": {
    "dotnet_interactive": {
     "language": "fsharp"
    },
    "polyglot_notebook": {
     "kernelName": "fsharp"
    }
   },
   "outputs": [
    {
     "name": "stdout",
     "output_type": "stream",
     "text": [
      "[ 5, 6, 1, 2, 3, 4, 5, 6, 1, 2, 3, 4, 5, 6, 1, 2 ]\n"
     ]
    }
   ],
   "source": [
    "//// test\n",
    "\n",
    "[ -1 .. 14 ]\n",
    "|> rotateNumbers 6\n",
    "|> Seq.toList\n",
    "|> _assertEqual [ 5; 6; 1; 2; 3; 4; 5; 6; 1; 2; 3; 4; 5; 6; 1; 2 ]"
   ]
  },
  {
   "cell_type": "markdown",
   "metadata": {},
   "source": [
    "## createSequentialRoller"
   ]
  },
  {
   "cell_type": "code",
   "execution_count": null,
   "metadata": {
    "dotnet_interactive": {
     "language": "fsharp"
    },
    "polyglot_notebook": {
     "kernelName": "fsharp"
    }
   },
   "outputs": [],
   "source": [
    "let createSequentialRoller list =\n",
    "    let mutable currentIndex = 0\n",
    "    fun () ->\n",
    "        match list |> List.tryItem currentIndex with\n",
    "        | Some item ->\n",
    "            currentIndex <- currentIndex + 1\n",
    "            item\n",
    "        | None ->\n",
    "            failwith \"createSequentialRoller / End of list\""
   ]
  },
  {
   "cell_type": "markdown",
   "metadata": {},
   "source": [
    "## rollProgressively"
   ]
  },
  {
   "cell_type": "code",
   "execution_count": null,
   "metadata": {
    "dotnet_interactive": {
     "language": "fsharp"
    },
    "polyglot_notebook": {
     "kernelName": "fsharp"
    }
   },
   "outputs": [],
   "source": [
    "let rollProgressively log roll reroll max =\n",
    "    let power = (calculateDiceCount log max) - 1\n",
    "    let rec loop rolls size =\n",
    "        if size < power + 1\n",
    "        then loop (roll () :: rolls) (size + 1)\n",
    "        else\n",
    "            match accumulateDiceRolls log rolls power 0 with\n",
    "            | Some (result, _) when result <= max -> result\n",
    "            | _ when reroll -> loop (List.init power (fun _ -> roll ())) power\n",
    "            | _ -> loop (roll () :: rolls) (size + 1)\n",
    "    loop [] 0"
   ]
  },
  {
   "cell_type": "code",
   "execution_count": null,
   "metadata": {
    "dotnet_interactive": {
     "language": "fsharp"
    },
    "polyglot_notebook": {
     "kernelName": "fsharp"
    }
   },
   "outputs": [
    {
     "name": "stdout",
     "output_type": "stream",
     "text": [
      "1\n"
     ]
    }
   ],
   "source": [
    "//// test\n",
    "\n",
    "rollProgressively None rollDice false 1\n",
    "|> _assertEqual 1"
   ]
  },
  {
   "cell_type": "code",
   "execution_count": null,
   "metadata": {
    "dotnet_interactive": {
     "language": "fsharp"
    },
    "polyglot_notebook": {
     "kernelName": "fsharp"
    }
   },
   "outputs": [
    {
     "name": "stdout",
     "output_type": "stream",
     "text": [
      "calculateDiceCount / max: 2000 / n: 5 / p: 7776\n",
      "accumulateDiceRolls / power: 4 / acc: 0 / roll: 1\n",
      "accumulateDiceRolls / power: 3 / acc: 0 / roll: 5 / value: 864\n",
      "accumulateDiceRolls / power: 2 / acc: 864 / roll: 4 / value: 108\n",
      "accumulateDiceRolls / power: 1 / acc: 972 / roll: 4 / value: 18\n",
      "accumulateDiceRolls / power: 0 / acc: 990 / roll: 5 / value: 4\n",
      "accumulateDiceRolls / power: -1 / acc: 994\n",
      "995\n"
     ]
    }
   ],
   "source": [
    "//// test\n",
    "\n",
    "let sequentialRoll = createSequentialRoller [ 5; 4; 4; 5; 1 ]\n",
    "\n",
    "rollProgressively (Some (printfn \"%s\")) sequentialRoll false 2000\n",
    "|> _assertEqual 995"
   ]
  },
  {
   "cell_type": "code",
   "execution_count": null,
   "metadata": {
    "dotnet_interactive": {
     "language": "fsharp"
    },
    "polyglot_notebook": {
     "kernelName": "fsharp"
    }
   },
   "outputs": [
    {
     "name": "stdout",
     "output_type": "stream",
     "text": [
      "FSI_0042+it@5-11\n",
      "calculateDiceCount / max: 2000 / n: 5 / p: 7776\n",
      "accumulateDiceRolls / power: 4 / acc: 0 / roll: 2 / value: 1296\n",
      "accumulateDiceRolls / power: 3 / acc: 1296 / roll: 5 / value: 864\n",
      "accumulateDiceRolls / power: 2 / acc: 2160 / roll: 4 / value: 108\n",
      "accumulateDiceRolls / power: 1 / acc: 2268 / roll: 4 / value: 18\n",
      "accumulateDiceRolls / power: 0 / acc: 2286 / roll: 5 / value: 4\n",
      "accumulateDiceRolls / power: -1 / acc: 2290\n",
      "System.Exception: createSequentialRoller / End of list\n"
     ]
    }
   ],
   "source": [
    "//// test\n",
    "\n",
    "let sequentialRoll = createSequentialRoller [ 5; 4; 4; 5; 2 ]\n",
    "\n",
    "fun () -> rollProgressively (Some (printfn \"%s\")) sequentialRoll false 2000 |> ignore\n",
    "|> _throwsC (fun ex _ ->\n",
    "    SpiralSm.format_exception ex\n",
    "    |> _assertEqual \"System.Exception: createSequentialRoller / End of list\"\n",
    ")"
   ]
  },
  {
   "cell_type": "code",
   "execution_count": null,
   "metadata": {
    "dotnet_interactive": {
     "language": "fsharp"
    },
    "polyglot_notebook": {
     "kernelName": "fsharp"
    }
   },
   "outputs": [],
   "source": [
    "//// test\n",
    "\n",
    "[ 1 .. 100 ]\n",
    "|> List.iter (fun n ->\n",
    "    [ 0 .. 1 ]\n",
    "    |> List.iter (fun reroll ->\n",
    "        [ 1 .. 3500 ]\n",
    "        |> List.map (fun _ -> rollProgressively None rollDice (reroll = 1) n)\n",
    "        |> List.groupBy id\n",
    "        |> List.length\n",
    "        |> __assertEqual false n\n",
    "    )\n",
    ")"
   ]
  },
  {
   "cell_type": "markdown",
   "metadata": {},
   "source": [
    "## main"
   ]
  },
  {
   "cell_type": "code",
   "execution_count": null,
   "metadata": {
    "dotnet_interactive": {
     "language": "fsharp"
    },
    "polyglot_notebook": {
     "kernelName": "fsharp"
    }
   },
   "outputs": [],
   "source": [
    "let main args =\n",
    "    let result = rollProgressively (Some (printfn \"%s\")) rollDice true (System.Int32.MaxValue / 10)\n",
    "    trace Debug (fun () -> $\"main / result: {result}\") getLocals\n",
    "    0"
   ]
  }
 ],
 "metadata": {},
 "nbformat": 4,
 "nbformat_minor": 5
}